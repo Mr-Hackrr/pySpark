{
  "cells": [
    {
      "cell_type": "markdown",
      "metadata": {
        "id": "view-in-github",
        "colab_type": "text"
      },
      "source": [
        "<a href=\"https://colab.research.google.com/github/Mr-Hackrr/pySpark/blob/main/regex_extract_ipaddress.ipynb\" target=\"_parent\"><img src=\"https://colab.research.google.com/assets/colab-badge.svg\" alt=\"Open In Colab\"/></a>"
      ]
    },
    {
      "cell_type": "code",
      "source": [
        "pip install pyspark"
      ],
      "metadata": {
        "colab": {
          "base_uri": "https://localhost:8080/"
        },
        "id": "6LnBFYyVp6rp",
        "outputId": "078cadc1-c950-40ab-80be-0bc137e4d102"
      },
      "execution_count": 6,
      "outputs": [
        {
          "output_type": "stream",
          "name": "stdout",
          "text": [
            "Requirement already satisfied: pyspark in /usr/local/lib/python3.10/dist-packages (3.5.1)\n",
            "Requirement already satisfied: py4j==0.10.9.7 in /usr/local/lib/python3.10/dist-packages (from pyspark) (0.10.9.7)\n"
          ]
        }
      ]
    },
    {
      "cell_type": "code",
      "source": [
        "from pyspark.sql import SparkSession\n",
        "from pyspark.sql.functions import *"
      ],
      "metadata": {
        "id": "M8iO2RRcp6m-"
      },
      "execution_count": 30,
      "outputs": []
    },
    {
      "cell_type": "code",
      "source": [
        "spark = SparkSession.builder.appName(\"regex\").getOrCreate()"
      ],
      "metadata": {
        "id": "HUv4Gaxwp6h_"
      },
      "execution_count": 31,
      "outputs": []
    },
    {
      "cell_type": "code",
      "source": [
        "df = spark.read.text(\"networkevent.log\")"
      ],
      "metadata": {
        "id": "MxLIo05uqTKJ"
      },
      "execution_count": 32,
      "outputs": []
    },
    {
      "cell_type": "code",
      "source": [
        "df.show()"
      ],
      "metadata": {
        "colab": {
          "base_uri": "https://localhost:8080/"
        },
        "id": "t8m52OUoqwS-",
        "outputId": "7f6f5563-2e5e-4309-a358-8d04f087f684"
      },
      "execution_count": 33,
      "outputs": [
        {
          "output_type": "stream",
          "name": "stdout",
          "text": [
            "+--------------------+\n",
            "|               value|\n",
            "+--------------------+\n",
            "|64.242.88.10 - - ...|\n",
            "|64.242.88.10 - - ...|\n",
            "|64.242.88.10 - - ...|\n",
            "|64.242.88.10 - - ...|\n",
            "|64.242.88.10 - - ...|\n",
            "|64.242.88.10 - - ...|\n",
            "|64.242.88.10 - - ...|\n",
            "|64.242.88.10 - - ...|\n",
            "|64.242.88.10 - - ...|\n",
            "|64.242.88.10 - - ...|\n",
            "|64.242.88.10 - - ...|\n",
            "|64.242.88.10 - - ...|\n",
            "|64.242.88.10 - - ...|\n",
            "|64.242.88.10 - - ...|\n",
            "|64.242.88.10 - - ...|\n",
            "|64.242.88.10 - - ...|\n",
            "|64.242.88.10 - - ...|\n",
            "|64.242.88.10 - - ...|\n",
            "|64.242.88.10 - - ...|\n",
            "|64.242.88.10 - - ...|\n",
            "+--------------------+\n",
            "only showing top 20 rows\n",
            "\n"
          ]
        }
      ]
    },
    {
      "cell_type": "code",
      "source": [
        "#df1 = df.withColumn(\"ipadress\",f.regexp_extract('value',r\"^\\d+\\.\\d+\\.\\d+\\.\\d+\",0))\n",
        "df1 = df.withColumn(\"ipadress\",f.regexp_extract('value',r\"^\\d{1,3}\\.\\d{1,3}\\.\\d{1,3}\\.\\d{1,3}\",0))"
      ],
      "metadata": {
        "id": "TFv6hk5_qxPz"
      },
      "execution_count": 43,
      "outputs": []
    },
    {
      "cell_type": "code",
      "source": [
        "df1.count()"
      ],
      "metadata": {
        "colab": {
          "base_uri": "https://localhost:8080/"
        },
        "id": "ahhKpVy3t04b",
        "outputId": "5061917a-c37d-4174-e5f7-7bbcd573fae4"
      },
      "execution_count": 44,
      "outputs": [
        {
          "output_type": "execute_result",
          "data": {
            "text/plain": [
              "920"
            ]
          },
          "metadata": {},
          "execution_count": 44
        }
      ]
    },
    {
      "cell_type": "code",
      "source": [
        "count_df = df1.groupBy('ipadress').agg({'ipadress':'count'}).withColumnRenamed('count(ipadress)','unique_ip_count')"
      ],
      "metadata": {
        "id": "Y6lCUfYywgLo"
      },
      "execution_count": 56,
      "outputs": []
    },
    {
      "cell_type": "code",
      "source": [
        "df1.select(col('ipadress')).distinct().count()"
      ],
      "metadata": {
        "colab": {
          "base_uri": "https://localhost:8080/"
        },
        "id": "GM8F26wrxZAX",
        "outputId": "8c22a55a-365d-4faf-8889-b27b1f8e06b6"
      },
      "execution_count": 53,
      "outputs": [
        {
          "output_type": "execute_result",
          "data": {
            "text/plain": [
              "16"
            ]
          },
          "metadata": {},
          "execution_count": 53
        }
      ]
    },
    {
      "cell_type": "code",
      "source": [
        "count_df.show()"
      ],
      "metadata": {
        "colab": {
          "base_uri": "https://localhost:8080/"
        },
        "id": "jJz6TFsM0Otz",
        "outputId": "1a7bc912-a110-45b2-f184-e9bbe3caf5b6"
      },
      "execution_count": 57,
      "outputs": [
        {
          "output_type": "stream",
          "name": "stdout",
          "text": [
            "+---------------+---------------+\n",
            "|       ipadress|unique_ip_count|\n",
            "+---------------+---------------+\n",
            "|   219.95.17.51|              1|\n",
            "|  200.222.33.33|              1|\n",
            "|  64.246.94.152|              1|\n",
            "|  128.227.88.79|             14|\n",
            "|   80.58.35.111|              1|\n",
            "|      61.9.4.61|              3|\n",
            "|     10.0.0.153|             76|\n",
            "| 195.246.13.119|             12|\n",
            "|   66.213.206.2|              1|\n",
            "| 200.160.249.68|              2|\n",
            "|195.230.181.122|              1|\n",
            "|               |            320|\n",
            "|   213.181.81.4|              1|\n",
            "|   212.92.37.62|             14|\n",
            "| 207.195.59.160|             20|\n",
            "|   64.242.88.10|            452|\n",
            "+---------------+---------------+\n",
            "\n"
          ]
        }
      ]
    },
    {
      "cell_type": "code",
      "source": [
        "count_df.dropna().show()"
      ],
      "metadata": {
        "colab": {
          "base_uri": "https://localhost:8080/"
        },
        "id": "dt9Sv7oC5VPR",
        "outputId": "7b7b730e-08a0-4c53-a904-690e530e1aaa"
      },
      "execution_count": 59,
      "outputs": [
        {
          "output_type": "stream",
          "name": "stdout",
          "text": [
            "+---------------+---------------+\n",
            "|       ipadress|unique_ip_count|\n",
            "+---------------+---------------+\n",
            "|   219.95.17.51|              1|\n",
            "|  200.222.33.33|              1|\n",
            "|  64.246.94.152|              1|\n",
            "|  128.227.88.79|             14|\n",
            "|   80.58.35.111|              1|\n",
            "|      61.9.4.61|              3|\n",
            "|     10.0.0.153|             76|\n",
            "| 195.246.13.119|             12|\n",
            "|   66.213.206.2|              1|\n",
            "| 200.160.249.68|              2|\n",
            "|195.230.181.122|              1|\n",
            "|               |            320|\n",
            "|   213.181.81.4|              1|\n",
            "|   212.92.37.62|             14|\n",
            "| 207.195.59.160|             20|\n",
            "|   64.242.88.10|            452|\n",
            "+---------------+---------------+\n",
            "\n"
          ]
        }
      ]
    },
    {
      "cell_type": "code",
      "source": [],
      "metadata": {
        "id": "SB7k5jY56Ekn"
      },
      "execution_count": null,
      "outputs": []
    }
  ],
  "metadata": {
    "colab": {
      "name": "Welcome To Colab",
      "provenance": [],
      "include_colab_link": true
    },
    "kernelspec": {
      "display_name": "Python 3",
      "name": "python3"
    }
  },
  "nbformat": 4,
  "nbformat_minor": 0
}