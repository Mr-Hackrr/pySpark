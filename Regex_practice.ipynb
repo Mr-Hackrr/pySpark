{
 "cells": [
  {
   "cell_type": "code",
   "execution_count": 2,
   "id": "fc318604-83e3-4153-a57e-8e7270222577",
   "metadata": {},
   "outputs": [],
   "source": [
    "from pyspark.sql import SparkSession\n",
    "from pyspark.sql.functions import *\n"
   ]
  },
  {
   "cell_type": "code",
   "execution_count": 3,
   "id": "b83ff483-de55-4b57-8f31-fb6f0d50ab64",
   "metadata": {},
   "outputs": [
    {
     "name": "stderr",
     "output_type": "stream",
     "text": [
      "2024-07-27 09:55:43,721 WARN util.NativeCodeLoader: Unable to load native-hadoop library for your platform... using builtin-java classes where applicable\n",
      "Setting default log level to \"WARN\".\n",
      "To adjust logging level use sc.setLogLevel(newLevel). For SparkR, use setLogLevel(newLevel).\n",
      "2024-07-27 09:55:44,984 WARN util.Utils: Service 'SparkUI' could not bind on port 4040. Attempting port 4041.\n",
      "2024-07-27 09:55:44,984 WARN util.Utils: Service 'SparkUI' could not bind on port 4041. Attempting port 4042.\n"
     ]
    }
   ],
   "source": [
    "spark = SparkSession.builder.appName('purva_regex_practice').getOrCreate()"
   ]
  },
  {
   "cell_type": "code",
   "execution_count": 4,
   "id": "8c6adce0-8354-4f0a-bc05-d48f7e0e1fc7",
   "metadata": {},
   "outputs": [
    {
     "data": {
      "text/html": [
       "\n",
       "            <div>\n",
       "                <p><b>SparkSession - in-memory</b></p>\n",
       "                \n",
       "        <div>\n",
       "            <p><b>SparkContext</b></p>\n",
       "\n",
       "            <p><a href=\"http://gateway.cloudloka.com:4042\">Spark UI</a></p>\n",
       "\n",
       "            <dl>\n",
       "              <dt>Version</dt>\n",
       "                <dd><code>v3.1.2</code></dd>\n",
       "              <dt>Master</dt>\n",
       "                <dd><code>local[*]</code></dd>\n",
       "              <dt>AppName</dt>\n",
       "                <dd><code>purva_regex_practice</code></dd>\n",
       "            </dl>\n",
       "        </div>\n",
       "        \n",
       "            </div>\n",
       "        "
      ],
      "text/plain": [
       "<pyspark.sql.session.SparkSession at 0x7f3eac6f3700>"
      ]
     },
     "execution_count": 4,
     "metadata": {},
     "output_type": "execute_result"
    }
   ],
   "source": [
    "spark"
   ]
  },
  {
   "cell_type": "code",
   "execution_count": 26,
   "id": "546c19e3-1654-488d-b5d0-a8181ca38170",
   "metadata": {},
   "outputs": [
    {
     "name": "stdout",
     "output_type": "stream",
     "text": [
      "+--------------------+\n",
      "|               value|\n",
      "+--------------------+\n",
      "|64.242.88.10 - - ...|\n",
      "|64.242.88.10 - - ...|\n",
      "|64.242.88.10 - - ...|\n",
      "|64.242.88.10 - - ...|\n",
      "|64.242.88.10 - - ...|\n",
      "|64.242.88.10 - - ...|\n",
      "|64.242.88.10 - - ...|\n",
      "|64.242.88.10 - - ...|\n",
      "|64.242.88.10 - - ...|\n",
      "|64.242.88.10 - - ...|\n",
      "|64.242.88.10 - - ...|\n",
      "|64.242.88.10 - - ...|\n",
      "|64.242.88.10 - - ...|\n",
      "|64.242.88.10 - - ...|\n",
      "|64.242.88.10 - - ...|\n",
      "|64.242.88.10 - - ...|\n",
      "|64.242.88.10 - - ...|\n",
      "|64.242.88.10 - - ...|\n",
      "|64.242.88.10 - - ...|\n",
      "|64.242.88.10 - - ...|\n",
      "+--------------------+\n",
      "only showing top 20 rows\n",
      "\n"
     ]
    }
   ],
   "source": [
    "df = spark.read.text('/user/purvanakh61vgre/networkevent.log')"
   ]
  },
  {
   "cell_type": "code",
   "execution_count": 38,
   "id": "bb4e6f1e-7930-4f93-9e2e-57d82e538d59",
   "metadata": {},
   "outputs": [
    {
     "name": "stdout",
     "output_type": "stream",
     "text": [
      "+---------------+-----------+\n",
      "|           col1|count(col1)|\n",
      "+---------------+-----------+\n",
      "|   219.95.17.51|          1|\n",
      "|  200.222.33.33|          1|\n",
      "|  64.246.94.152|          1|\n",
      "|  128.227.88.79|         14|\n",
      "|   80.58.35.111|          1|\n",
      "|      61.9.4.61|          3|\n",
      "|     10.0.0.153|         76|\n",
      "| 195.246.13.119|         12|\n",
      "|   66.213.206.2|          1|\n",
      "| 200.160.249.68|          2|\n",
      "|195.230.181.122|          1|\n",
      "|               |        320|\n",
      "|   213.181.81.4|          1|\n",
      "|   212.92.37.62|         14|\n",
      "| 207.195.59.160|         20|\n",
      "|   64.242.88.10|        452|\n",
      "+---------------+-----------+\n",
      "\n"
     ]
    }
   ],
   "source": [
    "df1 = df.select(regexp_extract('value', '^\\d{1,3}\\.\\d{1,3}\\.\\d{1,3}\\.\\d{1,3}', 0))\n",
    "df2 = df1.withColumnRenamed('regexp_extract(value, ^\\d{1,3}\\.\\d{1,3}\\.\\d{1,3}\\.\\d{1,3}, 0)', 'col1')\n",
    "df2.groupBy('col1').agg({'col1': 'count'}).show()"
   ]
  }
 ],
 "metadata": {
  "kernelspec": {
   "display_name": "Python 3 (ipykernel)",
   "language": "python",
   "name": "python3"
  },
  "language_info": {
   "codemirror_mode": {
    "name": "ipython",
    "version": 3
   },
   "file_extension": ".py",
   "mimetype": "text/x-python",
   "name": "python",
   "nbconvert_exporter": "python",
   "pygments_lexer": "ipython3",
   "version": "3.9.13"
  }
 },
 "nbformat": 4,
 "nbformat_minor": 5
}
