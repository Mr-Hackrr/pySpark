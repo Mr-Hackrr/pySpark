{
  "nbformat": 4,
  "nbformat_minor": 0,
  "metadata": {
    "colab": {
      "provenance": [],
      "include_colab_link": true
    },
    "kernelspec": {
      "name": "python3",
      "display_name": "Python 3"
    },
    "language_info": {
      "name": "python"
    }
  },
  "cells": [
    {
      "cell_type": "markdown",
      "metadata": {
        "id": "view-in-github",
        "colab_type": "text"
      },
      "source": [
        "<a href=\"https://colab.research.google.com/github/Mr-Hackrr/pySpark/blob/main/airlines.ipynb\" target=\"_parent\"><img src=\"https://colab.research.google.com/assets/colab-badge.svg\" alt=\"Open In Colab\"/></a>"
      ]
    },
    {
      "cell_type": "code",
      "execution_count": null,
      "metadata": {
        "id": "4C6Ry_IjTHnd"
      },
      "outputs": [],
      "source": [
        "#Varibales for Code\n",
        "\n",
        "\"AMD\", \"COK\", \"2024-02-24 08:00:00\", \"2024-02-24 10:30:00\", \"2024-02-24 08:50:00\", \"2024-02-24 11:25:00\", \"Akasa Air\", \"airTraffic\"\n",
        "\"COK\", \"SXR\", \"2024-02-25 12:00:00\", \"2024-02-25 18:30:00\", \"2024-02-25 12:15:00\", \"2024-02-25 19:15:00\", \"Vistara\", \"mechanical\"\n",
        "\"COK\", \"AMD\", \"2024-03-24 08:00:00\", \"2024-03-24 10:40:00\", \"2024-03-24 08:17:00\", \"2024-03-24 11:00:00\", \"Akasa Air\", \"storm\"\n",
        "\"SXR\", \"AMD\", \"2024-04-28 05:30:00\", \"2024-04-28 07:35:00\", \"2024-04-28 05:50:00\", \"2024-04-28 07:55:00\", \"Vistara\", \"visibility\"\n",
        "\"AMD\", \"SXR\", \"2024-07-25 07:00:00\", \"2024-07-25 09:10:00\", \"2024-07-25 07:10:00\", \"2024-07-25 09:20:00\", \"Akasa Air\", \"airTraffic\"\n",
        "\"AMD\", \"CCU\", \"2024-03-28 18:00:00\", \"2024-03-28 20:25:00\", \"2024-03-28 19:00:00\", \"2024-03-28 21:15:00\", \"Vistara\", \"storm\"\n",
        "\"SXR\", \"COK\", \"2024-06-28 23:00:00\", \"2024-06-29 04:40:00\", \"2024-06-28 23:40:00\", \"2024-06-29 05:20:00\", \"Vistara\", \"airTraffic\"\n",
        "\"COK\", \"CCU\", \"2024-06-24 18:00:00\", \"2024-06-24 21:05:00\", \"2024-06-24 18:05:00\", \"2024-06-24 21:25:00\", \"IndiGo\", \"visibility\"\n",
        "\"CCU\", \"AMD\", \"2024-07-25 04:00:00\", \"2024-07-25 06:45:00\", \"2024-07-25 04:30:00\", \"2024-07-25 07:05:00\", \"IndiGo\", \"airTraffic\"\n",
        "\"CCU\", \"COK\", \"2024-02-28 14:00:00\", \"2024-02-28 17:10:00\", \"2024-02-28 14:10:00\", \"2024-02-28 17:40:00\", \"IndiGo\", \"mechanical\"\n",
        "\"CCU\", \"SXR\", \"2024-04-21 17:00:00\", \"2024-04-21 19:50:00\", \"2024-04-21 17:30:00\", \"2024-04-21 20:05:00\", \"IndiGo\", \"airTraffic\""
      ]
    },
    {
      "cell_type": "code",
      "source": [
        "# prompt: change the data make it to 50 rows dont duplicate it add new data genearte the data\n",
        "\n",
        "import random\n",
        "from datetime import datetime, timedelta\n",
        "\n",
        "airports = [\"AMD\", \"COK\", \"SXR\", \"CCU\", \"DEL\", \"BOM\", \"BLR\", \"MAA\", \"HYD\", \"PNQ\"]\n",
        "airlines = [\"Akasa Air\", \"Vistara\", \"IndiGo\", \"SpiceJet\", \"Air India\", \"Go First\"]\n",
        "reasons = [\"airTraffic\", \"mechanical\", \"storm\", \"visibility\", \"other\"]\n",
        "\n",
        "data = []\n",
        "for i in range(50):\n",
        "  dep_airport = random.choice(airports)\n",
        "  arr_airport = random.choice([a for a in airports if a != dep_airport])  # Ensure different arrival airport\n",
        "\n",
        "  # Generate random datetime within a range\n",
        "  start_date = datetime(2024, 1, 1, 0, 0)\n",
        "  end_date = datetime(2024, 12, 31, 23, 59)\n",
        "  random_time = start_date + timedelta(seconds=random.randint(0, int((end_date - start_date).total_seconds())))\n",
        "\n",
        "  sch_dep = random_time.strftime(\"%Y-%m-%d %H:%M:%S\")\n",
        "  sch_arr = (random_time + timedelta(hours=random.randint(1, 5))).strftime(\"%Y-%m-%d %H:%M:%S\")  # Add 1-5 hours for arrival\n",
        "\n",
        "  act_dep = (random_time + timedelta(minutes=random.randint(0, 30))).strftime(\"%Y-%m-%d %H:%M:%S\")  # Add up to 30 mins delay for actual departure\n",
        "  act_arr = (datetime.strptime(sch_arr, \"%Y-%m-%d %H:%M:%S\") + timedelta(minutes=random.randint(0, 30))).strftime(\"%Y-%m-%d %H:%M:%S\")  # Similar for arrival\n",
        "\n",
        "  airline = random.choice(airlines)\n",
        "  reason = random.choice(reasons)\n",
        "\n",
        "  data.append([dep_airport, arr_airport, sch_dep, sch_arr, act_dep, act_arr, airline, reason])\n",
        "\n",
        "# Print the generated data (optional)\n",
        "for row in data:\n",
        "  print(row)\n"
      ],
      "metadata": {
        "id": "Y6QJNx6-YpQe",
        "outputId": "b06d3074-1b48-41b2-c555-5aced03f7b11",
        "colab": {
          "base_uri": "https://localhost:8080/"
        }
      },
      "execution_count": 1,
      "outputs": [
        {
          "output_type": "stream",
          "name": "stdout",
          "text": [
            "['MAA', 'PNQ', '2024-01-29 08:55:12', '2024-01-29 10:55:12', '2024-01-29 09:22:12', '2024-01-29 11:13:12', 'SpiceJet', 'visibility']\n",
            "['SXR', 'BOM', '2024-07-04 09:07:44', '2024-07-04 14:07:44', '2024-07-04 09:12:44', '2024-07-04 14:37:44', 'SpiceJet', 'airTraffic']\n",
            "['DEL', 'HYD', '2024-10-24 18:25:17', '2024-10-24 21:25:17', '2024-10-24 18:27:17', '2024-10-24 21:40:17', 'SpiceJet', 'storm']\n",
            "['SXR', 'AMD', '2024-02-06 12:24:09', '2024-02-06 14:24:09', '2024-02-06 12:47:09', '2024-02-06 14:41:09', 'Go First', 'other']\n",
            "['AMD', 'CCU', '2024-10-25 18:07:34', '2024-10-25 19:07:34', '2024-10-25 18:31:34', '2024-10-25 19:36:34', 'IndiGo', 'visibility']\n",
            "['CCU', 'PNQ', '2024-09-23 04:38:29', '2024-09-23 05:38:29', '2024-09-23 05:03:29', '2024-09-23 06:04:29', 'Go First', 'airTraffic']\n",
            "['DEL', 'MAA', '2024-10-21 23:11:09', '2024-10-22 00:11:09', '2024-10-21 23:37:09', '2024-10-22 00:21:09', 'Akasa Air', 'other']\n",
            "['BLR', 'AMD', '2024-07-11 14:26:31', '2024-07-11 19:26:31', '2024-07-11 14:49:31', '2024-07-11 19:56:31', 'Go First', 'mechanical']\n",
            "['DEL', 'COK', '2024-01-24 05:16:50', '2024-01-24 09:16:50', '2024-01-24 05:42:50', '2024-01-24 09:34:50', 'Vistara', 'airTraffic']\n",
            "['DEL', 'BLR', '2024-08-13 16:35:06', '2024-08-13 18:35:06', '2024-08-13 16:52:06', '2024-08-13 19:04:06', 'IndiGo', 'other']\n",
            "['HYD', 'DEL', '2024-07-14 02:42:48', '2024-07-14 05:42:48', '2024-07-14 02:51:48', '2024-07-14 05:54:48', 'IndiGo', 'other']\n",
            "['DEL', 'AMD', '2024-01-15 08:56:03', '2024-01-15 12:56:03', '2024-01-15 09:13:03', '2024-01-15 13:05:03', 'Vistara', 'storm']\n",
            "['BOM', 'MAA', '2024-10-01 11:57:13', '2024-10-01 14:57:13', '2024-10-01 12:24:13', '2024-10-01 15:03:13', 'Go First', 'airTraffic']\n",
            "['PNQ', 'COK', '2024-02-25 17:32:25', '2024-02-25 19:32:25', '2024-02-25 17:41:25', '2024-02-25 20:02:25', 'Air India', 'airTraffic']\n",
            "['DEL', 'HYD', '2024-06-07 01:03:10', '2024-06-07 06:03:10', '2024-06-07 01:27:10', '2024-06-07 06:32:10', 'Air India', 'airTraffic']\n",
            "['COK', 'DEL', '2024-06-09 02:52:49', '2024-06-09 03:52:49', '2024-06-09 03:20:49', '2024-06-09 04:21:49', 'Go First', 'other']\n",
            "['SXR', 'CCU', '2024-08-25 20:33:16', '2024-08-26 01:33:16', '2024-08-25 20:34:16', '2024-08-26 01:42:16', 'Vistara', 'visibility']\n",
            "['BOM', 'PNQ', '2024-05-14 22:58:22', '2024-05-15 01:58:22', '2024-05-14 23:12:22', '2024-05-15 02:01:22', 'Go First', 'mechanical']\n",
            "['DEL', 'BLR', '2024-02-22 09:41:49', '2024-02-22 14:41:49', '2024-02-22 09:46:49', '2024-02-22 15:02:49', 'Akasa Air', 'storm']\n",
            "['BOM', 'SXR', '2024-04-05 04:04:26', '2024-04-05 06:04:26', '2024-04-05 04:13:26', '2024-04-05 06:31:26', 'IndiGo', 'mechanical']\n",
            "['BLR', 'CCU', '2024-04-11 18:29:24', '2024-04-11 20:29:24', '2024-04-11 18:50:24', '2024-04-11 20:46:24', 'Akasa Air', 'airTraffic']\n",
            "['MAA', 'CCU', '2024-12-08 13:50:13', '2024-12-08 16:50:13', '2024-12-08 14:02:13', '2024-12-08 16:58:13', 'SpiceJet', 'storm']\n",
            "['COK', 'SXR', '2024-01-21 08:58:45', '2024-01-21 11:58:45', '2024-01-21 09:06:45', '2024-01-21 12:17:45', 'Vistara', 'storm']\n",
            "['SXR', 'PNQ', '2024-09-19 22:36:31', '2024-09-20 03:36:31', '2024-09-19 23:00:31', '2024-09-20 04:04:31', 'IndiGo', 'mechanical']\n",
            "['PNQ', 'MAA', '2024-05-22 22:51:45', '2024-05-23 03:51:45', '2024-05-22 22:52:45', '2024-05-23 04:09:45', 'Go First', 'storm']\n",
            "['BLR', 'PNQ', '2024-06-22 19:14:25', '2024-06-22 20:14:25', '2024-06-22 19:24:25', '2024-06-22 20:40:25', 'Go First', 'mechanical']\n",
            "['PNQ', 'BLR', '2024-08-18 06:37:29', '2024-08-18 10:37:29', '2024-08-18 07:02:29', '2024-08-18 10:59:29', 'Air India', 'storm']\n",
            "['AMD', 'HYD', '2024-07-01 18:58:09', '2024-07-01 22:58:09', '2024-07-01 19:14:09', '2024-07-01 23:09:09', 'SpiceJet', 'visibility']\n",
            "['DEL', 'SXR', '2024-07-31 22:14:18', '2024-08-01 01:14:18', '2024-07-31 22:32:18', '2024-08-01 01:38:18', 'Akasa Air', 'mechanical']\n",
            "['PNQ', 'AMD', '2024-08-19 18:58:34', '2024-08-19 19:58:34', '2024-08-19 19:01:34', '2024-08-19 20:12:34', 'Air India', 'other']\n",
            "['SXR', 'HYD', '2024-07-15 16:20:39', '2024-07-15 19:20:39', '2024-07-15 16:36:39', '2024-07-15 19:39:39', 'Air India', 'mechanical']\n",
            "['BLR', 'PNQ', '2024-01-19 12:52:06', '2024-01-19 17:52:06', '2024-01-19 13:15:06', '2024-01-19 18:11:06', 'IndiGo', 'storm']\n",
            "['SXR', 'COK', '2024-11-21 08:16:28', '2024-11-21 10:16:28', '2024-11-21 08:42:28', '2024-11-21 10:23:28', 'Go First', 'other']\n",
            "['CCU', 'COK', '2024-03-27 04:14:44', '2024-03-27 07:14:44', '2024-03-27 04:39:44', '2024-03-27 07:27:44', 'Akasa Air', 'other']\n",
            "['BLR', 'CCU', '2024-10-08 02:27:48', '2024-10-08 05:27:48', '2024-10-08 02:33:48', '2024-10-08 05:44:48', 'SpiceJet', 'visibility']\n",
            "['DEL', 'MAA', '2024-10-13 16:22:54', '2024-10-13 17:22:54', '2024-10-13 16:48:54', '2024-10-13 17:34:54', 'Akasa Air', 'mechanical']\n",
            "['DEL', 'MAA', '2024-10-11 05:03:16', '2024-10-11 10:03:16', '2024-10-11 05:13:16', '2024-10-11 10:27:16', 'SpiceJet', 'other']\n",
            "['MAA', 'PNQ', '2024-07-17 03:09:52', '2024-07-17 04:09:52', '2024-07-17 03:20:52', '2024-07-17 04:09:52', 'Go First', 'visibility']\n",
            "['MAA', 'AMD', '2024-11-15 14:09:10', '2024-11-15 19:09:10', '2024-11-15 14:24:10', '2024-11-15 19:39:10', 'Air India', 'storm']\n",
            "['SXR', 'DEL', '2024-02-29 08:47:35', '2024-02-29 10:47:35', '2024-02-29 08:51:35', '2024-02-29 11:08:35', 'Air India', 'other']\n",
            "['BOM', 'SXR', '2024-12-10 00:27:47', '2024-12-10 02:27:47', '2024-12-10 00:27:47', '2024-12-10 02:33:47', 'Vistara', 'mechanical']\n",
            "['BOM', 'PNQ', '2024-12-07 03:38:42', '2024-12-07 05:38:42', '2024-12-07 03:40:42', '2024-12-07 05:47:42', 'Go First', 'storm']\n",
            "['HYD', 'CCU', '2024-03-10 03:19:16', '2024-03-10 08:19:16', '2024-03-10 03:27:16', '2024-03-10 08:37:16', 'Vistara', 'mechanical']\n",
            "['MAA', 'SXR', '2024-09-14 22:40:09', '2024-09-15 01:40:09', '2024-09-14 22:45:09', '2024-09-15 01:41:09', 'Vistara', 'visibility']\n",
            "['CCU', 'SXR', '2024-04-01 00:11:57', '2024-04-01 03:11:57', '2024-04-01 00:28:57', '2024-04-01 03:30:57', 'Vistara', 'airTraffic']\n",
            "['BOM', 'DEL', '2024-11-25 21:33:39', '2024-11-26 00:33:39', '2024-11-25 21:37:39', '2024-11-26 00:42:39', 'Air India', 'mechanical']\n",
            "['SXR', 'PNQ', '2024-08-25 20:22:20', '2024-08-26 00:22:20', '2024-08-25 20:33:20', '2024-08-26 00:35:20', 'SpiceJet', 'visibility']\n",
            "['CCU', 'COK', '2024-02-26 16:38:27', '2024-02-26 20:38:27', '2024-02-26 17:03:27', '2024-02-26 21:07:27', 'SpiceJet', 'mechanical']\n",
            "['SXR', 'COK', '2024-12-25 16:34:15', '2024-12-25 18:34:15', '2024-12-25 16:39:15', '2024-12-25 18:50:15', 'Akasa Air', 'visibility']\n",
            "['BLR', 'PNQ', '2024-08-30 09:48:12', '2024-08-30 13:48:12', '2024-08-30 10:12:12', '2024-08-30 13:58:12', 'SpiceJet', 'visibility']\n"
          ]
        }
      ]
    },
    {
      "cell_type": "code",
      "source": [
        "schema = [\"origin_airport\", \"destination_airport\", \"scheduled_departure_time\", \"scheduled_arrival_time\", \"actual_departure_time\", \"actual_arrival_time\", \"carrier\", \"delay_reason\"]"
      ],
      "metadata": {
        "id": "NSj_Dg60TKxF"
      },
      "execution_count": 6,
      "outputs": []
    },
    {
      "cell_type": "code",
      "source": [
        "pip install pyspark"
      ],
      "metadata": {
        "id": "6aW0AU3gTKz4",
        "outputId": "8794eca5-a0c6-41da-ec2a-b84ed7d71d36",
        "colab": {
          "base_uri": "https://localhost:8080/"
        }
      },
      "execution_count": 3,
      "outputs": [
        {
          "output_type": "stream",
          "name": "stdout",
          "text": [
            "Collecting pyspark\n",
            "  Downloading pyspark-3.5.1.tar.gz (317.0 MB)\n",
            "\u001b[2K     \u001b[90m━━━━━━━━━━━━━━━━━━━━━━━━━━━━━━━━━━━━━━━━\u001b[0m \u001b[32m317.0/317.0 MB\u001b[0m \u001b[31m4.2 MB/s\u001b[0m eta \u001b[36m0:00:00\u001b[0m\n",
            "\u001b[?25h  Preparing metadata (setup.py) ... \u001b[?25l\u001b[?25hdone\n",
            "Requirement already satisfied: py4j==0.10.9.7 in /usr/local/lib/python3.10/dist-packages (from pyspark) (0.10.9.7)\n",
            "Building wheels for collected packages: pyspark\n",
            "  Building wheel for pyspark (setup.py) ... \u001b[?25l\u001b[?25hdone\n",
            "  Created wheel for pyspark: filename=pyspark-3.5.1-py2.py3-none-any.whl size=317488490 sha256=eb7353a0dc31ff82ff0b8cc95e56e46dcbf257aa097c97746b71bdfe8d85f79c\n",
            "  Stored in directory: /root/.cache/pip/wheels/80/1d/60/2c256ed38dddce2fdd93be545214a63e02fbd8d74fb0b7f3a6\n",
            "Successfully built pyspark\n",
            "Installing collected packages: pyspark\n",
            "Successfully installed pyspark-3.5.1\n"
          ]
        }
      ]
    },
    {
      "cell_type": "code",
      "source": [
        "#Create a SparkSession\n",
        "from pyspark.sql import SparkSession\n",
        "from pyspark.sql.functions import *\n",
        "from pyspark.sql.types import *\n",
        "spark = SparkSession.builder.appName(\"FlightDelayAnalysis\").getOrCreate()"
      ],
      "metadata": {
        "id": "zF51idgGTK2v"
      },
      "execution_count": 4,
      "outputs": []
    },
    {
      "cell_type": "code",
      "source": [
        "#Create dataframe for the given data using enforced Schema method\n",
        "df = spark.createDataFrame(data, schema)"
      ],
      "metadata": {
        "id": "bJjbtnDqTK42"
      },
      "execution_count": 7,
      "outputs": []
    },
    {
      "cell_type": "code",
      "source": [
        "df.show()"
      ],
      "metadata": {
        "id": "239njWOIyCL9",
        "outputId": "da6d5aa7-2ed8-4684-887a-5d21ca06d7c6",
        "colab": {
          "base_uri": "https://localhost:8080/"
        }
      },
      "execution_count": 8,
      "outputs": [
        {
          "output_type": "stream",
          "name": "stdout",
          "text": [
            "+--------------+-------------------+------------------------+----------------------+---------------------+-------------------+---------+------------+\n",
            "|origin_airport|destination_airport|scheduled_departure_time|scheduled_arrival_time|actual_departure_time|actual_arrival_time|  carrier|delay_reason|\n",
            "+--------------+-------------------+------------------------+----------------------+---------------------+-------------------+---------+------------+\n",
            "|           MAA|                PNQ|     2024-01-29 08:55:12|   2024-01-29 10:55:12|  2024-01-29 09:22:12|2024-01-29 11:13:12| SpiceJet|  visibility|\n",
            "|           SXR|                BOM|     2024-07-04 09:07:44|   2024-07-04 14:07:44|  2024-07-04 09:12:44|2024-07-04 14:37:44| SpiceJet|  airTraffic|\n",
            "|           DEL|                HYD|     2024-10-24 18:25:17|   2024-10-24 21:25:17|  2024-10-24 18:27:17|2024-10-24 21:40:17| SpiceJet|       storm|\n",
            "|           SXR|                AMD|     2024-02-06 12:24:09|   2024-02-06 14:24:09|  2024-02-06 12:47:09|2024-02-06 14:41:09| Go First|       other|\n",
            "|           AMD|                CCU|     2024-10-25 18:07:34|   2024-10-25 19:07:34|  2024-10-25 18:31:34|2024-10-25 19:36:34|   IndiGo|  visibility|\n",
            "|           CCU|                PNQ|     2024-09-23 04:38:29|   2024-09-23 05:38:29|  2024-09-23 05:03:29|2024-09-23 06:04:29| Go First|  airTraffic|\n",
            "|           DEL|                MAA|     2024-10-21 23:11:09|   2024-10-22 00:11:09|  2024-10-21 23:37:09|2024-10-22 00:21:09|Akasa Air|       other|\n",
            "|           BLR|                AMD|     2024-07-11 14:26:31|   2024-07-11 19:26:31|  2024-07-11 14:49:31|2024-07-11 19:56:31| Go First|  mechanical|\n",
            "|           DEL|                COK|     2024-01-24 05:16:50|   2024-01-24 09:16:50|  2024-01-24 05:42:50|2024-01-24 09:34:50|  Vistara|  airTraffic|\n",
            "|           DEL|                BLR|     2024-08-13 16:35:06|   2024-08-13 18:35:06|  2024-08-13 16:52:06|2024-08-13 19:04:06|   IndiGo|       other|\n",
            "|           HYD|                DEL|     2024-07-14 02:42:48|   2024-07-14 05:42:48|  2024-07-14 02:51:48|2024-07-14 05:54:48|   IndiGo|       other|\n",
            "|           DEL|                AMD|     2024-01-15 08:56:03|   2024-01-15 12:56:03|  2024-01-15 09:13:03|2024-01-15 13:05:03|  Vistara|       storm|\n",
            "|           BOM|                MAA|     2024-10-01 11:57:13|   2024-10-01 14:57:13|  2024-10-01 12:24:13|2024-10-01 15:03:13| Go First|  airTraffic|\n",
            "|           PNQ|                COK|     2024-02-25 17:32:25|   2024-02-25 19:32:25|  2024-02-25 17:41:25|2024-02-25 20:02:25|Air India|  airTraffic|\n",
            "|           DEL|                HYD|     2024-06-07 01:03:10|   2024-06-07 06:03:10|  2024-06-07 01:27:10|2024-06-07 06:32:10|Air India|  airTraffic|\n",
            "|           COK|                DEL|     2024-06-09 02:52:49|   2024-06-09 03:52:49|  2024-06-09 03:20:49|2024-06-09 04:21:49| Go First|       other|\n",
            "|           SXR|                CCU|     2024-08-25 20:33:16|   2024-08-26 01:33:16|  2024-08-25 20:34:16|2024-08-26 01:42:16|  Vistara|  visibility|\n",
            "|           BOM|                PNQ|     2024-05-14 22:58:22|   2024-05-15 01:58:22|  2024-05-14 23:12:22|2024-05-15 02:01:22| Go First|  mechanical|\n",
            "|           DEL|                BLR|     2024-02-22 09:41:49|   2024-02-22 14:41:49|  2024-02-22 09:46:49|2024-02-22 15:02:49|Akasa Air|       storm|\n",
            "|           BOM|                SXR|     2024-04-05 04:04:26|   2024-04-05 06:04:26|  2024-04-05 04:13:26|2024-04-05 06:31:26|   IndiGo|  mechanical|\n",
            "+--------------+-------------------+------------------------+----------------------+---------------------+-------------------+---------+------------+\n",
            "only showing top 20 rows\n",
            "\n"
          ]
        }
      ]
    },
    {
      "cell_type": "code",
      "source": [
        "df.count()"
      ],
      "metadata": {
        "id": "QhkTuS7zyJRM",
        "outputId": "1b43387c-40fb-4229-ef18-60bb5daff3e8",
        "colab": {
          "base_uri": "https://localhost:8080/"
        }
      },
      "execution_count": 9,
      "outputs": [
        {
          "output_type": "execute_result",
          "data": {
            "text/plain": [
              "50"
            ]
          },
          "metadata": {},
          "execution_count": 9
        }
      ]
    },
    {
      "cell_type": "code",
      "source": [
        "#Filter the dataframe to display all delayed flights\n",
        "df.filter(col('actual_departure_time') > col('scheduled_departure_time')).count()"
      ],
      "metadata": {
        "id": "zE8sMVYNTK7i",
        "outputId": "5038fc9d-d102-4915-c772-1cc2d5b399cc",
        "colab": {
          "base_uri": "https://localhost:8080/"
        }
      },
      "execution_count": 11,
      "outputs": [
        {
          "output_type": "execute_result",
          "data": {
            "text/plain": [
              "49"
            ]
          },
          "metadata": {},
          "execution_count": 11
        }
      ]
    },
    {
      "cell_type": "code",
      "source": [
        "#Calculate Average delay per source airport\n",
        "df.withColumn('delay',expr(\"unix_timestamp(actual_departure_time) - (unix_timestamp(scheduled_departure_time))\")).show()"
      ],
      "metadata": {
        "id": "6eyemK93TK-i",
        "outputId": "7e9877f6-4844-4707-8136-c2117f3900c9",
        "colab": {
          "base_uri": "https://localhost:8080/"
        }
      },
      "execution_count": 15,
      "outputs": [
        {
          "output_type": "stream",
          "name": "stdout",
          "text": [
            "+--------------+-------------------+------------------------+----------------------+---------------------+-------------------+---------+------------+-----+\n",
            "|origin_airport|destination_airport|scheduled_departure_time|scheduled_arrival_time|actual_departure_time|actual_arrival_time|  carrier|delay_reason|delay|\n",
            "+--------------+-------------------+------------------------+----------------------+---------------------+-------------------+---------+------------+-----+\n",
            "|           MAA|                PNQ|     2024-01-29 08:55:12|   2024-01-29 10:55:12|  2024-01-29 09:22:12|2024-01-29 11:13:12| SpiceJet|  visibility| 1620|\n",
            "|           SXR|                BOM|     2024-07-04 09:07:44|   2024-07-04 14:07:44|  2024-07-04 09:12:44|2024-07-04 14:37:44| SpiceJet|  airTraffic|  300|\n",
            "|           DEL|                HYD|     2024-10-24 18:25:17|   2024-10-24 21:25:17|  2024-10-24 18:27:17|2024-10-24 21:40:17| SpiceJet|       storm|  120|\n",
            "|           SXR|                AMD|     2024-02-06 12:24:09|   2024-02-06 14:24:09|  2024-02-06 12:47:09|2024-02-06 14:41:09| Go First|       other| 1380|\n",
            "|           AMD|                CCU|     2024-10-25 18:07:34|   2024-10-25 19:07:34|  2024-10-25 18:31:34|2024-10-25 19:36:34|   IndiGo|  visibility| 1440|\n",
            "|           CCU|                PNQ|     2024-09-23 04:38:29|   2024-09-23 05:38:29|  2024-09-23 05:03:29|2024-09-23 06:04:29| Go First|  airTraffic| 1500|\n",
            "|           DEL|                MAA|     2024-10-21 23:11:09|   2024-10-22 00:11:09|  2024-10-21 23:37:09|2024-10-22 00:21:09|Akasa Air|       other| 1560|\n",
            "|           BLR|                AMD|     2024-07-11 14:26:31|   2024-07-11 19:26:31|  2024-07-11 14:49:31|2024-07-11 19:56:31| Go First|  mechanical| 1380|\n",
            "|           DEL|                COK|     2024-01-24 05:16:50|   2024-01-24 09:16:50|  2024-01-24 05:42:50|2024-01-24 09:34:50|  Vistara|  airTraffic| 1560|\n",
            "|           DEL|                BLR|     2024-08-13 16:35:06|   2024-08-13 18:35:06|  2024-08-13 16:52:06|2024-08-13 19:04:06|   IndiGo|       other| 1020|\n",
            "|           HYD|                DEL|     2024-07-14 02:42:48|   2024-07-14 05:42:48|  2024-07-14 02:51:48|2024-07-14 05:54:48|   IndiGo|       other|  540|\n",
            "|           DEL|                AMD|     2024-01-15 08:56:03|   2024-01-15 12:56:03|  2024-01-15 09:13:03|2024-01-15 13:05:03|  Vistara|       storm| 1020|\n",
            "|           BOM|                MAA|     2024-10-01 11:57:13|   2024-10-01 14:57:13|  2024-10-01 12:24:13|2024-10-01 15:03:13| Go First|  airTraffic| 1620|\n",
            "|           PNQ|                COK|     2024-02-25 17:32:25|   2024-02-25 19:32:25|  2024-02-25 17:41:25|2024-02-25 20:02:25|Air India|  airTraffic|  540|\n",
            "|           DEL|                HYD|     2024-06-07 01:03:10|   2024-06-07 06:03:10|  2024-06-07 01:27:10|2024-06-07 06:32:10|Air India|  airTraffic| 1440|\n",
            "|           COK|                DEL|     2024-06-09 02:52:49|   2024-06-09 03:52:49|  2024-06-09 03:20:49|2024-06-09 04:21:49| Go First|       other| 1680|\n",
            "|           SXR|                CCU|     2024-08-25 20:33:16|   2024-08-26 01:33:16|  2024-08-25 20:34:16|2024-08-26 01:42:16|  Vistara|  visibility|   60|\n",
            "|           BOM|                PNQ|     2024-05-14 22:58:22|   2024-05-15 01:58:22|  2024-05-14 23:12:22|2024-05-15 02:01:22| Go First|  mechanical|  840|\n",
            "|           DEL|                BLR|     2024-02-22 09:41:49|   2024-02-22 14:41:49|  2024-02-22 09:46:49|2024-02-22 15:02:49|Akasa Air|       storm|  300|\n",
            "|           BOM|                SXR|     2024-04-05 04:04:26|   2024-04-05 06:04:26|  2024-04-05 04:13:26|2024-04-05 06:31:26|   IndiGo|  mechanical|  540|\n",
            "+--------------+-------------------+------------------------+----------------------+---------------------+-------------------+---------+------------+-----+\n",
            "only showing top 20 rows\n",
            "\n"
          ]
        }
      ]
    },
    {
      "cell_type": "code",
      "source": [
        "##Calculate Average delay per destination airport\n",
        "df.groupBy('destination_airport')"
      ],
      "metadata": {
        "id": "WL0mvZQjTLA4"
      },
      "execution_count": null,
      "outputs": []
    },
    {
      "cell_type": "code",
      "source": [
        "#Calculate Average delay per airline\n"
      ],
      "metadata": {
        "id": "E926xJ-0sYzJ"
      },
      "execution_count": null,
      "outputs": []
    },
    {
      "cell_type": "code",
      "source": [
        "#Fetch airline with maximum delay (in single flight)\n"
      ],
      "metadata": {
        "id": "vjYnz1lnsY1-"
      },
      "execution_count": null,
      "outputs": []
    },
    {
      "cell_type": "code",
      "source": [
        "#Fetch airline with maximum delay (overall time delay)\n"
      ],
      "metadata": {
        "id": "rnafU6f8sY5E"
      },
      "execution_count": null,
      "outputs": []
    },
    {
      "cell_type": "code",
      "source": [
        "#Fetch airline with minimum delay (in single flight)\n"
      ],
      "metadata": {
        "id": "nV2IzGmawZA3"
      },
      "execution_count": null,
      "outputs": []
    },
    {
      "cell_type": "code",
      "source": [
        "#Fetch airline with minimum delay (overall time delay)\n"
      ],
      "metadata": {
        "id": "CLs2jLCVsY7e"
      },
      "execution_count": null,
      "outputs": []
    },
    {
      "cell_type": "code",
      "source": [
        "#Calculate Average delay per reason\n"
      ],
      "metadata": {
        "id": "j1wbEA5esY9b"
      },
      "execution_count": null,
      "outputs": []
    },
    {
      "cell_type": "code",
      "source": [
        "#Find most recurring cause of delays\n"
      ],
      "metadata": {
        "id": "6L4hSBbxsZAo"
      },
      "execution_count": null,
      "outputs": []
    },
    {
      "cell_type": "code",
      "source": [
        "#Identify the airline with best recovery time\n",
        "# (Even though the flight started late, the airline recovered a few minutes in flight time)\n",
        "\n",
        "\n"
      ],
      "metadata": {
        "id": "2PjP8N9os0zz"
      },
      "execution_count": null,
      "outputs": []
    },
    {
      "cell_type": "code",
      "source": [
        "# prompt: #Identify the airline with best recovery time\n",
        "# # (Even though the flight started late, the airline recovered a few minutes in flight time)\n",
        "\n",
        "# Calculate recovery time (if any)\n",
        "df_recovery = df.withColumn(\n",
        "    \"recovery_time\",\n",
        "    when(\n",
        "        unix_timestamp(\"actual_arrival_time\") - unix_timestamp(\"scheduled_arrival_time\") < 0,\n",
        "        unix_timestamp(\"scheduled_arrival_time\") - unix_timestamp(\"actual_arrival_time\")\n",
        "    ).otherwise(0)\n",
        ")\n",
        "\n",
        "# Group by airline and calculate average recovery time\n",
        "avg_recovery_by_airline = df_recovery.groupBy(\"carrier\").agg(avg(\"recovery_time\").alias(\"avg_recovery\"))\n",
        "\n",
        "# Find the airline with the maximum average recovery time\n",
        "best_recovery_airline = avg_recovery_by_airline.orderBy(desc(\"avg_recovery\")).first()\n",
        "\n",
        "print(\"Airline with the best recovery time:\")\n",
        "print(best_recovery_airline)\n"
      ],
      "metadata": {
        "id": "hyaWzjg5Ynn0",
        "outputId": "6865fbd9-3619-452c-96ae-1809294e855b",
        "colab": {
          "base_uri": "https://localhost:8080/"
        }
      },
      "execution_count": 16,
      "outputs": [
        {
          "output_type": "stream",
          "name": "stdout",
          "text": [
            "Airline with the best recovery time:\n",
            "Row(carrier='Akasa Air', avg_recovery=0.0)\n"
          ]
        }
      ]
    }
  ]
}