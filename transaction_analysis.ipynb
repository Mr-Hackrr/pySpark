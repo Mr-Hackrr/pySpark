{
  "cells": [
    {
      "cell_type": "markdown",
      "metadata": {
        "id": "view-in-github",
        "colab_type": "text"
      },
      "source": [
        "<a href=\"https://colab.research.google.com/github/Mr-Hackrr/pySpark/blob/main/transaction_analysis.ipynb\" target=\"_parent\"><img src=\"https://colab.research.google.com/assets/colab-badge.svg\" alt=\"Open In Colab\"/></a>"
      ]
    },
    {
      "cell_type": "code",
      "source": [
        "pip install pymupdf pandas"
      ],
      "metadata": {
        "id": "7ASXPve6SLCz",
        "outputId": "adf4ccc9-2bde-448f-acd6-3d90bd51f349",
        "colab": {
          "base_uri": "https://localhost:8080/"
        }
      },
      "execution_count": 3,
      "outputs": [
        {
          "output_type": "stream",
          "name": "stdout",
          "text": [
            "Collecting pymupdf\n",
            "  Downloading PyMuPDF-1.24.9-cp310-none-manylinux2014_x86_64.whl.metadata (3.4 kB)\n",
            "Requirement already satisfied: pandas in /usr/local/lib/python3.10/dist-packages (2.0.3)\n",
            "Collecting PyMuPDFb==1.24.9 (from pymupdf)\n",
            "  Downloading PyMuPDFb-1.24.9-py3-none-manylinux2014_x86_64.manylinux_2_17_x86_64.whl.metadata (1.4 kB)\n",
            "Requirement already satisfied: python-dateutil>=2.8.2 in /usr/local/lib/python3.10/dist-packages (from pandas) (2.8.2)\n",
            "Requirement already satisfied: pytz>=2020.1 in /usr/local/lib/python3.10/dist-packages (from pandas) (2024.1)\n",
            "Requirement already satisfied: tzdata>=2022.1 in /usr/local/lib/python3.10/dist-packages (from pandas) (2024.1)\n",
            "Requirement already satisfied: numpy>=1.21.0 in /usr/local/lib/python3.10/dist-packages (from pandas) (1.25.2)\n",
            "Requirement already satisfied: six>=1.5 in /usr/local/lib/python3.10/dist-packages (from python-dateutil>=2.8.2->pandas) (1.16.0)\n",
            "Downloading PyMuPDF-1.24.9-cp310-none-manylinux2014_x86_64.whl (3.5 MB)\n",
            "\u001b[2K   \u001b[90m━━━━━━━━━━━━━━━━━━━━━━━━━━━━━━━━━━━━━━━━\u001b[0m \u001b[32m3.5/3.5 MB\u001b[0m \u001b[31m10.1 MB/s\u001b[0m eta \u001b[36m0:00:00\u001b[0m\n",
            "\u001b[?25hDownloading PyMuPDFb-1.24.9-py3-none-manylinux2014_x86_64.manylinux_2_17_x86_64.whl (15.9 MB)\n",
            "\u001b[2K   \u001b[90m━━━━━━━━━━━━━━━━━━━━━━━━━━━━━━━━━━━━━━━━\u001b[0m \u001b[32m15.9/15.9 MB\u001b[0m \u001b[31m36.5 MB/s\u001b[0m eta \u001b[36m0:00:00\u001b[0m\n",
            "\u001b[?25hInstalling collected packages: PyMuPDFb, pymupdf\n",
            "Successfully installed PyMuPDFb-1.24.9 pymupdf-1.24.9\n"
          ]
        }
      ]
    },
    {
      "cell_type": "code",
      "source": [
        "pip install pyspark"
      ],
      "metadata": {
        "id": "m7uH82UHcrl3",
        "outputId": "4b4a0ac2-d886-45fe-9819-11b0fa627c11",
        "colab": {
          "base_uri": "https://localhost:8080/"
        }
      },
      "execution_count": 36,
      "outputs": [
        {
          "output_type": "stream",
          "name": "stdout",
          "text": [
            "Collecting pyspark\n",
            "  Downloading pyspark-3.5.1.tar.gz (317.0 MB)\n",
            "\u001b[2K     \u001b[90m━━━━━━━━━━━━━━━━━━━━━━━━━━━━━━━━━━━━━━━━\u001b[0m \u001b[32m317.0/317.0 MB\u001b[0m \u001b[31m3.4 MB/s\u001b[0m eta \u001b[36m0:00:00\u001b[0m\n",
            "\u001b[?25h  Preparing metadata (setup.py) ... \u001b[?25l\u001b[?25hdone\n",
            "Requirement already satisfied: py4j==0.10.9.7 in /usr/local/lib/python3.10/dist-packages (from pyspark) (0.10.9.7)\n",
            "Building wheels for collected packages: pyspark\n",
            "  Building wheel for pyspark (setup.py) ... \u001b[?25l\u001b[?25hdone\n",
            "  Created wheel for pyspark: filename=pyspark-3.5.1-py2.py3-none-any.whl size=317488490 sha256=ed9c9b484753943ad7afa48877d3cfe57ff0ce682cacc86149d04a4f82dd8738\n",
            "  Stored in directory: /root/.cache/pip/wheels/80/1d/60/2c256ed38dddce2fdd93be545214a63e02fbd8d74fb0b7f3a6\n",
            "Successfully built pyspark\n",
            "Installing collected packages: pyspark\n",
            "Successfully installed pyspark-3.5.1\n"
          ]
        }
      ]
    },
    {
      "cell_type": "code",
      "source": [
        "import fitz\n",
        "import pandas as pd"
      ],
      "metadata": {
        "id": "9c9O-7doSLFt"
      },
      "execution_count": 4,
      "outputs": []
    },
    {
      "cell_type": "code",
      "source": [
        "from pyspark.sql import SparkSession\n",
        "import pyspark.sql.functions as f"
      ],
      "metadata": {
        "id": "e51zDUk-cuaS"
      },
      "execution_count": 37,
      "outputs": []
    },
    {
      "cell_type": "code",
      "source": [
        "pdf = fitz.open(\"transactions.pdf\")"
      ],
      "metadata": {
        "id": "2B3USvR-SLIb"
      },
      "execution_count": 5,
      "outputs": []
    },
    {
      "cell_type": "code",
      "source": [
        "spark = SparkSession.builder.appName(\"transactions\").getOrCreate()"
      ],
      "metadata": {
        "id": "P9PC1mm5coJr"
      },
      "execution_count": 38,
      "outputs": []
    },
    {
      "cell_type": "code",
      "source": [
        "# prompt: get all text from document change it text file\n",
        "\n",
        "doc = fitz.open(\"transactions.pdf\")  # open document\n",
        "out = open(\"transactions.txt\", \"wb\")  # open text output\n",
        "for page in doc:  # iterate the document pages\n",
        "    text = page.get_text().encode(\"utf8\")  # get plain text (bytestring)\n",
        "    out.write(text)  # write text of page\n",
        "    out.write(bytes((12,)))  # write page delimiter (form feed 0x0C)\n",
        "out.close()\n"
      ],
      "metadata": {
        "id": "TbTjHd7aSLLB"
      },
      "execution_count": 48,
      "outputs": []
    },
    {
      "cell_type": "code",
      "source": [
        "df = spark.read.text(\"transactions.txt\")"
      ],
      "metadata": {
        "id": "DVTXRGDOSLOf"
      },
      "execution_count": 61,
      "outputs": []
    },
    {
      "cell_type": "code",
      "source": [
        "df.show()"
      ],
      "metadata": {
        "id": "AWsWE0aChIR6",
        "outputId": "6723de16-5568-4e49-df0e-67a5d2c24abf",
        "colab": {
          "base_uri": "https://localhost:8080/"
        }
      },
      "execution_count": 62,
      "outputs": [
        {
          "output_type": "stream",
          "name": "stdout",
          "text": [
            "+--------------------+\n",
            "|               value|\n",
            "+--------------------+\n",
            "|                    |\n",
            "|                Name|\n",
            "|SRIHARIKOTA GOVAR...|\n",
            "|             Address|\n",
            "|SO SRINIVASULU D ...|\n",
            "|SATYANARAYANA PURAM |\n",
            "| MAYPAD ROAD NELLORE|\n",
            "|                City|\n",
            "|             NELLORE|\n",
            "|               State|\n",
            "|      ANDHRA PRADESH|\n",
            "|             Pincode|\n",
            "|              524002|\n",
            "|           Mobile No|\n",
            "|        919381795961|\n",
            "|            Email Id|\n",
            "|         Home branch|\n",
            "|       STONEHOUSEPET|\n",
            "|                IFSC|\n",
            "|         UBIN0805173|\n",
            "+--------------------+\n",
            "only showing top 20 rows\n",
            "\n"
          ]
        }
      ]
    },
    {
      "cell_type": "code",
      "source": [
        "# prompt: no of rowa in data\n",
        "\n",
        "df.count()\n"
      ],
      "metadata": {
        "id": "OEZg4teLZTI5",
        "outputId": "2c5628b3-d337-4000-aef2-22232b92b746",
        "colab": {
          "base_uri": "https://localhost:8080/"
        }
      },
      "execution_count": 63,
      "outputs": [
        {
          "output_type": "execute_result",
          "data": {
            "text/plain": [
              "5515"
            ]
          },
          "metadata": {},
          "execution_count": 63
        }
      ]
    },
    {
      "cell_type": "code",
      "source": [
        "from pyspark.sql.window import Window"
      ],
      "metadata": {
        "id": "tEvuzc1-ZUyc"
      },
      "execution_count": 64,
      "outputs": []
    },
    {
      "cell_type": "code",
      "source": [
        "Columns = ['S.No','Date','Transaction Id','Remarks','Amount(Rs.)','Balance(Rs.)',]"
      ],
      "metadata": {
        "id": "SJJtdru3Zszw"
      },
      "execution_count": 22,
      "outputs": []
    },
    {
      "cell_type": "code",
      "source": [
        "df = df.withColumn('index',f.row_number().over(Window.orderBy(f.lit(1))))\n",
        "df.show()"
      ],
      "metadata": {
        "id": "GhctdR4wcfSO",
        "outputId": "f564767f-8244-4d82-b5b4-a836f14ac629",
        "colab": {
          "base_uri": "https://localhost:8080/"
        }
      },
      "execution_count": 65,
      "outputs": [
        {
          "output_type": "stream",
          "name": "stdout",
          "text": [
            "+--------------------+-----+\n",
            "|               value|index|\n",
            "+--------------------+-----+\n",
            "|                    |    1|\n",
            "|                Name|    2|\n",
            "|SRIHARIKOTA GOVAR...|    3|\n",
            "|             Address|    4|\n",
            "|SO SRINIVASULU D ...|    5|\n",
            "|SATYANARAYANA PURAM |    6|\n",
            "| MAYPAD ROAD NELLORE|    7|\n",
            "|                City|    8|\n",
            "|             NELLORE|    9|\n",
            "|               State|   10|\n",
            "|      ANDHRA PRADESH|   11|\n",
            "|             Pincode|   12|\n",
            "|              524002|   13|\n",
            "|           Mobile No|   14|\n",
            "|        919381795961|   15|\n",
            "|            Email Id|   16|\n",
            "|         Home branch|   17|\n",
            "|       STONEHOUSEPET|   18|\n",
            "|                IFSC|   19|\n",
            "|         UBIN0805173|   20|\n",
            "+--------------------+-----+\n",
            "only showing top 20 rows\n",
            "\n"
          ]
        }
      ]
    },
    {
      "cell_type": "code",
      "source": [
        "df = df.filter(df.index > 37)"
      ],
      "metadata": {
        "id": "Rasgtx2HcfUp"
      },
      "execution_count": 71,
      "outputs": []
    },
    {
      "cell_type": "code",
      "source": [
        "df.show(50)"
      ],
      "metadata": {
        "id": "hliqyv8Hh983",
        "outputId": "b1f709ee-908c-49e8-b774-9ab50df19a28",
        "colab": {
          "base_uri": "https://localhost:8080/"
        }
      },
      "execution_count": 72,
      "outputs": [
        {
          "output_type": "stream",
          "name": "stdout",
          "text": [
            "+--------------------+-----+\n",
            "|               value|index|\n",
            "+--------------------+-----+\n",
            "|                S.No|   38|\n",
            "|                Date|   39|\n",
            "|      Transaction Id|   40|\n",
            "|             Remarks|   41|\n",
            "|         Amount(Rs.)|   42|\n",
            "|        Balance(Rs.)|   43|\n",
            "|                   1|   44|\n",
            "|          28/07/2024|   45|\n",
            "|           S80067750|   46|\n",
            "|UPIAR/45765105325...|   47|\n",
            "|       Q090933256@yb|   48|\n",
            "|          40.00 (Dr)|   49|\n",
            "|         265.31 (Cr)|   50|\n",
            "|                   2|   51|\n",
            "|          28/07/2024|   52|\n",
            "|           S77556410|   53|\n",
            "|UPIAR/45769338313...|   54|\n",
            "|       9347857991@ax|   55|\n",
            "|         500.00 (Dr)|   56|\n",
            "|         305.31 (Cr)|   57|\n",
            "|                   3|   58|\n",
            "|          28/07/2024|   59|\n",
            "|           S77531041|   60|\n",
            "|UPIAR/45767039326...|   61|\n",
            "|       8790354176@yb|   62|\n",
            "|         325.00 (Dr)|   63|\n",
            "|         805.31 (Cr)|   64|\n",
            "|                   4|   65|\n",
            "|          28/07/2024|   66|\n",
            "|           S68849599|   67|\n",
            "|NEFT:SRIHARIKOTA ...|   68|\n",
            "|    N210243171609005|   69|\n",
            "|        1000.00 (Cr)|   70|\n",
            "|        1130.31 (Cr)|   71|\n",
            "|                   5|   72|\n",
            "|          28/07/2024|   73|\n",
            "|           S68422819|   74|\n",
            "|UPIAR/45761821996...|   75|\n",
            "|     /konduruapp1@yb|   76|\n",
            "|         500.00 (Dr)|   77|\n",
            "|         130.31 (Cr)|   78|\n",
            "|                   6|   79|\n",
            "|          28/07/2024|   80|\n",
            "|           S68213582|   81|\n",
            "|UPIAB/45760898579...|   82|\n",
            "|       9347857991@ax|   83|\n",
            "|         500.00 (Cr)|   84|\n",
            "|         630.31 (Cr)|   85|\n",
            "|                   7|   86|\n",
            "|          28/07/2024|   87|\n",
            "+--------------------+-----+\n",
            "only showing top 50 rows\n",
            "\n"
          ]
        }
      ]
    },
    {
      "cell_type": "code",
      "source": [
        "df.withColumn(\"Amount\", f.regexp_extract('value',r\"\"))"
      ],
      "metadata": {
        "id": "fX6Re98ygKDC"
      },
      "execution_count": null,
      "outputs": []
    }
  ],
  "metadata": {
    "colab": {
      "name": "Welcome To Colab",
      "provenance": [],
      "include_colab_link": true
    },
    "kernelspec": {
      "display_name": "Python 3",
      "name": "python3"
    }
  },
  "nbformat": 4,
  "nbformat_minor": 0
}