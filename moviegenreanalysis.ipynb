{
  "cells": [
    {
      "cell_type": "markdown",
      "metadata": {
        "id": "view-in-github",
        "colab_type": "text"
      },
      "source": [
        "<a href=\"https://colab.research.google.com/github/Mr-Hackrr/pySpark/blob/main/moviegenreanalysis.ipynb\" target=\"_parent\"><img src=\"https://colab.research.google.com/assets/colab-badge.svg\" alt=\"Open In Colab\"/></a>"
      ]
    },
    {
      "cell_type": "code",
      "source": [
        "%%writefile movies.csv\n",
        "movieId,movieName,year,fansReview,criticsReview\n",
        "1,Parmanu,2018,200,100\n",
        "2,URI,2019,300,200\n",
        "3,rrr,2022,300,200\n",
        "4,Bahubali,2015,500,400\n",
        "5,tanhaji,2020,600,500"
      ],
      "metadata": {
        "id": "gwHQbVOxqMD2",
        "outputId": "f60951ef-28e1-4117-81cb-eab0496e402e",
        "colab": {
          "base_uri": "https://localhost:8080/"
        }
      },
      "execution_count": 41,
      "outputs": [
        {
          "output_type": "stream",
          "name": "stdout",
          "text": [
            "Writing movies.csv\n"
          ]
        }
      ]
    },
    {
      "cell_type": "code",
      "source": [
        "%%writefile genre.csv\n",
        "movieId,genre\n",
        "1,tech\n",
        "2,history\n",
        "2,action\n",
        "4,action\n",
        "3,action\n",
        "1,science\n",
        "4,fiction\n",
        "5,history\n",
        "5,action\n",
        "4,mass"
      ],
      "metadata": {
        "id": "4b-pE5LnqMAZ",
        "outputId": "dbda45f1-00d0-4a97-d16e-490825f84bd0",
        "colab": {
          "base_uri": "https://localhost:8080/"
        }
      },
      "execution_count": 42,
      "outputs": [
        {
          "output_type": "stream",
          "name": "stdout",
          "text": [
            "Writing genre.csv\n"
          ]
        }
      ]
    },
    {
      "cell_type": "code",
      "source": [
        "pip install pyspark"
      ],
      "metadata": {
        "id": "bLFI3bCgqL9P",
        "outputId": "30561d5b-9caf-453a-de47-12794b19d1f4",
        "colab": {
          "base_uri": "https://localhost:8080/"
        }
      },
      "execution_count": 43,
      "outputs": [
        {
          "output_type": "stream",
          "name": "stdout",
          "text": [
            "Requirement already satisfied: pyspark in /usr/local/lib/python3.10/dist-packages (3.5.1)\n",
            "Requirement already satisfied: py4j==0.10.9.7 in /usr/local/lib/python3.10/dist-packages (from pyspark) (0.10.9.7)\n"
          ]
        }
      ]
    },
    {
      "cell_type": "code",
      "source": [
        "from pyspark.sql import SparkSession\n",
        "import pyspark.sql.functions as F"
      ],
      "metadata": {
        "id": "gZIU-QoLqL6E"
      },
      "execution_count": 44,
      "outputs": []
    },
    {
      "cell_type": "code",
      "source": [
        "spark = SparkSession.builder.appName(\"genre analysis\").getOrCreate()"
      ],
      "metadata": {
        "id": "N8Ffy9I4qL3Y"
      },
      "execution_count": 45,
      "outputs": []
    },
    {
      "cell_type": "code",
      "source": [
        "moviesdf = spark.read.option('header','true').csv(\"movies.csv\")\n",
        "genredf = spark.read.option('header','true').csv(\"genre.csv\")"
      ],
      "metadata": {
        "id": "_Se9hlD7qL0W"
      },
      "execution_count": 46,
      "outputs": []
    },
    {
      "cell_type": "code",
      "source": [
        "moviesdf.show()"
      ],
      "metadata": {
        "id": "DixPQY64qLxS",
        "outputId": "1087d26a-f1fe-4089-be3f-c0162240b08c",
        "colab": {
          "base_uri": "https://localhost:8080/"
        }
      },
      "execution_count": 47,
      "outputs": [
        {
          "output_type": "stream",
          "name": "stdout",
          "text": [
            "+-------+---------+----+----------+-------------+\n",
            "|movieId|movieName|year|fansReview|criticsReview|\n",
            "+-------+---------+----+----------+-------------+\n",
            "|      1|  Parmanu|2018|       200|          100|\n",
            "|      2|      URI|2019|       300|          200|\n",
            "|      3|      rrr|2022|       300|          200|\n",
            "|      4| Bahubali|2015|       500|          400|\n",
            "|      5|  tanhaji|2020|       600|          500|\n",
            "+-------+---------+----+----------+-------------+\n",
            "\n"
          ]
        }
      ]
    },
    {
      "cell_type": "code",
      "source": [
        "genredf.show()"
      ],
      "metadata": {
        "id": "E8dxobc9qLuj",
        "outputId": "d05757f3-fede-40d8-ddc7-ad00798ace02",
        "colab": {
          "base_uri": "https://localhost:8080/"
        }
      },
      "execution_count": 48,
      "outputs": [
        {
          "output_type": "stream",
          "name": "stdout",
          "text": [
            "+-------+-------+\n",
            "|movieId|  genre|\n",
            "+-------+-------+\n",
            "|      1|   tech|\n",
            "|      2|history|\n",
            "|      2| action|\n",
            "|      4| action|\n",
            "|      3| action|\n",
            "|      1|science|\n",
            "|      4|fiction|\n",
            "|      5|history|\n",
            "|      5| action|\n",
            "|      4|   mass|\n",
            "+-------+-------+\n",
            "\n"
          ]
        }
      ]
    },
    {
      "cell_type": "code",
      "source": [],
      "metadata": {
        "id": "RcnN5nnwrrWj"
      },
      "execution_count": null,
      "outputs": []
    },
    {
      "cell_type": "markdown",
      "source": [
        "Find top movies by fansReview to criticsReview ratio. Hint - Add a column for same\n",
        "\n",
        "Order moviesDF by year to get latest movie\n",
        "\n",
        "Join dataframes on movieID & find most popular genre\n"
      ],
      "metadata": {
        "id": "kSgXJsHEru96"
      }
    },
    {
      "cell_type": "markdown",
      "source": [],
      "metadata": {
        "id": "vnGf_rx9s1CS"
      }
    },
    {
      "cell_type": "code",
      "source": [
        "moviesdf.withColumn(\"ratio\",F.expr('fansReview/criticsReview')).show()"
      ],
      "metadata": {
        "id": "yUMKStE-rv-o",
        "outputId": "87a1d1f0-f46f-4972-b411-d51a79ddb071",
        "colab": {
          "base_uri": "https://localhost:8080/"
        }
      },
      "execution_count": 54,
      "outputs": [
        {
          "output_type": "stream",
          "name": "stdout",
          "text": [
            "+-------+---------+----+----------+-------------+-----+\n",
            "|movieId|movieName|year|fansReview|criticsReview|ratio|\n",
            "+-------+---------+----+----------+-------------+-----+\n",
            "|      1|  Parmanu|2018|       200|          100|  2.0|\n",
            "|      2|      URI|2019|       300|          200|  1.5|\n",
            "|      3|      rrr|2022|       300|          200|  1.5|\n",
            "|      4| Bahubali|2015|       500|          400| 1.25|\n",
            "|      5|  tanhaji|2020|       600|          500|  1.2|\n",
            "+-------+---------+----+----------+-------------+-----+\n",
            "\n"
          ]
        }
      ]
    },
    {
      "cell_type": "code",
      "source": [
        "moviesdf.orderBy(F.col('year').desc()).first()[1]"
      ],
      "metadata": {
        "id": "rCwr7G-usjYr",
        "outputId": "eea5ecd6-5aa0-4a37-fe20-9b623290a25e",
        "colab": {
          "base_uri": "https://localhost:8080/",
          "height": 36
        }
      },
      "execution_count": 57,
      "outputs": [
        {
          "output_type": "execute_result",
          "data": {
            "text/plain": [
              "'rrr'"
            ],
            "application/vnd.google.colaboratory.intrinsic+json": {
              "type": "string"
            }
          },
          "metadata": {},
          "execution_count": 57
        }
      ]
    },
    {
      "cell_type": "code",
      "source": [
        "full_df = genredf.join(moviesdf,'movieId','left')"
      ],
      "metadata": {
        "id": "kMnjGx12wn9-"
      },
      "execution_count": 62,
      "outputs": []
    },
    {
      "cell_type": "code",
      "source": [
        "full_df.groupBy('genre').agg({'movieId':'count'}).orderBy(F.col('count(movieId)').desc()).first()[0]"
      ],
      "metadata": {
        "id": "2wodgndyxmJn",
        "outputId": "8235636f-32f3-4539-f8c2-e142647ed6aa",
        "colab": {
          "base_uri": "https://localhost:8080/",
          "height": 36
        }
      },
      "execution_count": 67,
      "outputs": [
        {
          "output_type": "execute_result",
          "data": {
            "text/plain": [
              "'action'"
            ],
            "application/vnd.google.colaboratory.intrinsic+json": {
              "type": "string"
            }
          },
          "metadata": {},
          "execution_count": 67
        }
      ]
    },
    {
      "cell_type": "code",
      "source": [],
      "metadata": {
        "id": "bZaGDitSx5sa"
      },
      "execution_count": null,
      "outputs": []
    }
  ],
  "metadata": {
    "colab": {
      "name": "Welcome To Colab",
      "provenance": [],
      "include_colab_link": true
    },
    "kernelspec": {
      "display_name": "Python 3",
      "name": "python3"
    }
  },
  "nbformat": 4,
  "nbformat_minor": 0
}