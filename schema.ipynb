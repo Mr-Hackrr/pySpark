{
  "nbformat": 4,
  "nbformat_minor": 0,
  "metadata": {
    "colab": {
      "provenance": [],
      "include_colab_link": true
    },
    "kernelspec": {
      "name": "python3",
      "display_name": "Python 3"
    },
    "language_info": {
      "name": "python"
    }
  },
  "cells": [
    {
      "cell_type": "markdown",
      "metadata": {
        "id": "view-in-github",
        "colab_type": "text"
      },
      "source": [
        "<a href=\"https://colab.research.google.com/github/Mr-Hackrr/pySpark/blob/main/schema.ipynb\" target=\"_parent\"><img src=\"https://colab.research.google.com/assets/colab-badge.svg\" alt=\"Open In Colab\"/></a>"
      ]
    },
    {
      "cell_type": "code",
      "source": [
        "pip install pyspark"
      ],
      "metadata": {
        "id": "yUA8uOyXvqqf",
        "outputId": "61fa84fc-22e2-4cf6-c3f7-4ed3a11ab27f",
        "colab": {
          "base_uri": "https://localhost:8080/"
        }
      },
      "execution_count": 1,
      "outputs": [
        {
          "output_type": "stream",
          "name": "stdout",
          "text": [
            "Collecting pyspark\n",
            "  Downloading pyspark-3.5.1.tar.gz (317.0 MB)\n",
            "\u001b[2K     \u001b[90m━━━━━━━━━━━━━━━━━━━━━━━━━━━━━━━━━━━━━━━━\u001b[0m \u001b[32m317.0/317.0 MB\u001b[0m \u001b[31m4.4 MB/s\u001b[0m eta \u001b[36m0:00:00\u001b[0m\n",
            "\u001b[?25h  Preparing metadata (setup.py) ... \u001b[?25l\u001b[?25hdone\n",
            "Requirement already satisfied: py4j==0.10.9.7 in /usr/local/lib/python3.10/dist-packages (from pyspark) (0.10.9.7)\n",
            "Building wheels for collected packages: pyspark\n",
            "  Building wheel for pyspark (setup.py) ... \u001b[?25l\u001b[?25hdone\n",
            "  Created wheel for pyspark: filename=pyspark-3.5.1-py2.py3-none-any.whl size=317488493 sha256=0195a4fc200ec350224b70cfc33f2807ab86b120ef82d8301e6dd6c6887744b5\n",
            "  Stored in directory: /root/.cache/pip/wheels/80/1d/60/2c256ed38dddce2fdd93be545214a63e02fbd8d74fb0b7f3a6\n",
            "Successfully built pyspark\n",
            "Installing collected packages: pyspark\n",
            "Successfully installed pyspark-3.5.1\n"
          ]
        }
      ]
    },
    {
      "cell_type": "code",
      "source": [
        "from pyspark.sql import SparkSession\n",
        "from pyspark.sql.functions import *"
      ],
      "metadata": {
        "id": "fT0s5E20vqt0"
      },
      "execution_count": 2,
      "outputs": []
    },
    {
      "cell_type": "code",
      "execution_count": 10,
      "metadata": {
        "id": "dDbLI06ErVUw"
      },
      "outputs": [],
      "source": [
        "#Data\n",
        "data = [(501, \"starwars\", \"2010-10-12 10:30:00\", \"Cult!\", \"positive\"),\n",
        "           (502, \"fastandfurious\", \"2022-03-12 11:15:00\", \"missing cars\", \"negative\"),\n",
        "           (503, \"dune\", \"2024-01-12 12:00:00\", \"nice watch\", \"neutral\")]"
      ]
    },
    {
      "cell_type": "code",
      "source": [
        "#Create saprksession as sqlcontext\n",
        "sqlcontext = SparkSession.builder.appName('pactice').getOrCreate()"
      ],
      "metadata": {
        "id": "UB5hPjZmrXmZ"
      },
      "execution_count": 4,
      "outputs": []
    },
    {
      "cell_type": "code",
      "source": [
        "from pyspark.sql.types import *"
      ],
      "metadata": {
        "id": "48_iCRyo8RHo"
      },
      "execution_count": 5,
      "outputs": []
    },
    {
      "cell_type": "markdown",
      "source": [],
      "metadata": {
        "id": "zjZEdIaTr4uw"
      }
    },
    {
      "cell_type": "code",
      "source": [
        "#Create dataframe\n",
        "#schema as [\"userid\", \"movieId\", \"time\", \"review\", \"sentiment\"]\n",
        "design = [\"userid\", \"movieId\", \"time\", \"review\", \"sentiment\"]\n",
        "# schema = StructType([\n",
        "#     StructField('userid',StringType(),True),\n",
        "#     StructField('movieId',StringType(),True),\n",
        "#     StructField('time',StringType(),True),\n",
        "#     StructField('review',StringType(),True),\n",
        "#     StructField('sentiment',StringType(),True)\n",
        "# ])"
      ],
      "metadata": {
        "id": "e9Lbs2-XrXok"
      },
      "execution_count": 18,
      "outputs": []
    },
    {
      "cell_type": "code",
      "source": [
        "df = sqlcontext.createDataFrame(data,schema = design)"
      ],
      "metadata": {
        "id": "3suqxgeR_G-3"
      },
      "execution_count": 19,
      "outputs": []
    },
    {
      "cell_type": "code",
      "source": [
        "df.show()"
      ],
      "metadata": {
        "id": "LbZA0-4a_87D",
        "outputId": "e4d8847c-f0eb-4c2b-d3db-c5c88aec7634",
        "colab": {
          "base_uri": "https://localhost:8080/"
        }
      },
      "execution_count": 20,
      "outputs": [
        {
          "output_type": "stream",
          "name": "stdout",
          "text": [
            "+------+--------------+-------------------+------------+---------+\n",
            "|userid|       movieId|               time|      review|sentiment|\n",
            "+------+--------------+-------------------+------------+---------+\n",
            "|   501|      starwars|2010-10-12 10:30:00|       Cult!| positive|\n",
            "|   502|fastandfurious|2022-03-12 11:15:00|missing cars| negative|\n",
            "|   503|          dune|2024-01-12 12:00:00|  nice watch|  neutral|\n",
            "+------+--------------+-------------------+------------+---------+\n",
            "\n"
          ]
        }
      ]
    },
    {
      "cell_type": "code",
      "source": [
        "#Find entries with positive setiment\n",
        "df.filter(df.sentiment == \"positive\").show()"
      ],
      "metadata": {
        "id": "hFtDTYX5sBl_",
        "outputId": "be1a7bd6-11c3-4f76-f914-c6602210f7fb",
        "colab": {
          "base_uri": "https://localhost:8080/"
        }
      },
      "execution_count": 22,
      "outputs": [
        {
          "output_type": "stream",
          "name": "stdout",
          "text": [
            "+------+--------+-------------------+------+---------+\n",
            "|userid| movieId|               time|review|sentiment|\n",
            "+------+--------+-------------------+------+---------+\n",
            "|   501|starwars|2010-10-12 10:30:00| Cult!| positive|\n",
            "+------+--------+-------------------+------+---------+\n",
            "\n"
          ]
        }
      ]
    },
    {
      "cell_type": "code",
      "source": [
        "df.filter(df.sentiment == \"positive\").collect()[0][1]"
      ],
      "metadata": {
        "id": "-oTprehaApgq",
        "outputId": "4f685944-c15f-448e-b72b-f855d5439b59",
        "colab": {
          "base_uri": "https://localhost:8080/",
          "height": 35
        }
      },
      "execution_count": 26,
      "outputs": [
        {
          "output_type": "execute_result",
          "data": {
            "text/plain": [
              "'starwars'"
            ],
            "application/vnd.google.colaboratory.intrinsic+json": {
              "type": "string"
            }
          },
          "metadata": {},
          "execution_count": 26
        }
      ]
    },
    {
      "cell_type": "code",
      "source": [
        "#Find aerage review length\n",
        "res = df.withColumn('length',expr(\"len(sentiment)\")).agg(avg('length')).collect()[0][0]\n",
        "res"
      ],
      "metadata": {
        "id": "V68RGUEnsBos",
        "outputId": "127db423-f003-4b76-f968-dc0babfde43b",
        "colab": {
          "base_uri": "https://localhost:8080/"
        }
      },
      "execution_count": 32,
      "outputs": [
        {
          "output_type": "execute_result",
          "data": {
            "text/plain": [
              "7.666666666666667"
            ]
          },
          "metadata": {},
          "execution_count": 32
        }
      ]
    },
    {
      "cell_type": "code",
      "source": [
        "#count sentiments per user\n",
        "df.groupBy('userid').agg({'sentiment':'count'}).show()"
      ],
      "metadata": {
        "id": "fszyx_BMsBrb",
        "outputId": "abde6ad1-f72b-4437-a56a-c78e7157a3d9",
        "colab": {
          "base_uri": "https://localhost:8080/"
        }
      },
      "execution_count": 33,
      "outputs": [
        {
          "output_type": "stream",
          "name": "stdout",
          "text": [
            "+------+----------------+\n",
            "|userid|count(sentiment)|\n",
            "+------+----------------+\n",
            "|   501|               1|\n",
            "|   502|               1|\n",
            "|   503|               1|\n",
            "+------+----------------+\n",
            "\n"
          ]
        }
      ]
    },
    {
      "cell_type": "markdown",
      "source": [
        "Q2"
      ],
      "metadata": {
        "id": "N5NTqUsqsrSF"
      }
    },
    {
      "cell_type": "code",
      "source": [
        "#Data\n",
        "D1 = [(1, 'sample1', 100.0), (2, 'sample2', 2500.0), (3, 'sample3', 190.0)]"
      ],
      "metadata": {
        "id": "yLRoL0imssZr"
      },
      "execution_count": 35,
      "outputs": []
    },
    {
      "cell_type": "code",
      "source": [
        "#Data\n",
        "D2 = [(1, 509, 21, 200, 2000), (2, 510, 22, 50, 1000), (3, 511, 23, 100, 3000), (4, 512, 24, 100, 2000)]"
      ],
      "metadata": {
        "id": "b2XkwnZXsskN"
      },
      "execution_count": 36,
      "outputs": []
    },
    {
      "cell_type": "code",
      "source": [
        "#Data\n",
        "D3= [(108, 'Peter Parker', 'spidey@gmail.com'), (120, 'Bruce Wayne', 'batman@waynecorp.com')]"
      ],
      "metadata": {
        "id": "y702stsNssoG"
      },
      "execution_count": 37,
      "outputs": []
    },
    {
      "cell_type": "code",
      "source": [
        "#Data\n",
        "D4=  [(1, 108, 4, 'good'), (2, 120, 5, 'nice buy!'), (3, 120, 5, 'gotta buy!')]"
      ],
      "metadata": {
        "id": "alFzMcZyssrM"
      },
      "execution_count": 38,
      "outputs": []
    },
    {
      "cell_type": "code",
      "source": [
        "#Create datafrma from D1 as userId, name, score\n",
        "s1 = ['userId','name','score']\n",
        "df1 = sqlcontext.createDataFrame(D1,schema=s1)\n",
        "df1.show()"
      ],
      "metadata": {
        "id": "CCwL7JSPssuW",
        "outputId": "392bcacb-475d-4417-d608-4a847fda0d8f",
        "colab": {
          "base_uri": "https://localhost:8080/"
        }
      },
      "execution_count": 39,
      "outputs": [
        {
          "output_type": "stream",
          "name": "stdout",
          "text": [
            "+------+-------+------+\n",
            "|userId|   name| score|\n",
            "+------+-------+------+\n",
            "|     1|sample1| 100.0|\n",
            "|     2|sample2|2500.0|\n",
            "|     3|sample3| 190.0|\n",
            "+------+-------+------+\n",
            "\n"
          ]
        }
      ]
    },
    {
      "cell_type": "code",
      "source": [
        "#Create datafrma from D2 as userId, movieId, watchtime, sentiment_score\n",
        "s2 = [\"userId\", \"movieId\", \"watchtime\", \"sentiment_score\"]\n",
        "df2 = sqlcontext.createDataFrame(D2,schema=s2)\n",
        "df2.show()\n"
      ],
      "metadata": {
        "id": "lwO8YLjzssxu",
        "outputId": "9dabedbc-0fa7-4479-8a27-23b51d545bab",
        "colab": {
          "base_uri": "https://localhost:8080/"
        }
      },
      "execution_count": 40,
      "outputs": [
        {
          "output_type": "stream",
          "name": "stdout",
          "text": [
            "+------+-------+---------+---------------+----+\n",
            "|userId|movieId|watchtime|sentiment_score|  _5|\n",
            "+------+-------+---------+---------------+----+\n",
            "|     1|    509|       21|            200|2000|\n",
            "|     2|    510|       22|             50|1000|\n",
            "|     3|    511|       23|            100|3000|\n",
            "|     4|    512|       24|            100|2000|\n",
            "+------+-------+---------+---------------+----+\n",
            "\n"
          ]
        }
      ]
    },
    {
      "cell_type": "code",
      "source": [
        "#Create datafrma from D3 as Id, name, contact\n",
        "s3 = [\"Id\", \"name\", \"contact\"]\n",
        "df3 = sqlcontext.createDataFrame(D3,schema=s3)\n",
        "df3.show()"
      ],
      "metadata": {
        "id": "EUtPDkm8uDUu",
        "outputId": "e2ee170a-be0d-43ab-91e6-2e954d11c89f",
        "colab": {
          "base_uri": "https://localhost:8080/"
        }
      },
      "execution_count": 41,
      "outputs": [
        {
          "output_type": "stream",
          "name": "stdout",
          "text": [
            "+---+------------+--------------------+\n",
            "| Id|        name|             contact|\n",
            "+---+------------+--------------------+\n",
            "|108|Peter Parker|    spidey@gmail.com|\n",
            "|120| Bruce Wayne|batman@waynecorp.com|\n",
            "+---+------------+--------------------+\n",
            "\n"
          ]
        }
      ]
    },
    {
      "cell_type": "code",
      "source": [
        "#Create dataframe from D4 as Id, movieId, rating, review\n",
        "s4 = [\"Id\", \"movieId\", \"rating\", \"review\"]\n",
        "df4 = sqlcontext.createDataFrame(D4,schema=s4)\n",
        "df4.show()"
      ],
      "metadata": {
        "id": "7PCpdca9ss0k",
        "outputId": "7b1267e8-faf8-400e-ad83-ac97377f5341",
        "colab": {
          "base_uri": "https://localhost:8080/"
        }
      },
      "execution_count": 42,
      "outputs": [
        {
          "output_type": "stream",
          "name": "stdout",
          "text": [
            "+---+-------+------+----------+\n",
            "| Id|movieId|rating|    review|\n",
            "+---+-------+------+----------+\n",
            "|  1|    108|     4|      good|\n",
            "|  2|    120|     5| nice buy!|\n",
            "|  3|    120|     5|gotta buy!|\n",
            "+---+-------+------+----------+\n",
            "\n"
          ]
        }
      ]
    },
    {
      "cell_type": "code",
      "source": [
        "\n"
      ],
      "metadata": {
        "id": "wdSpBXXnss4D"
      },
      "execution_count": null,
      "outputs": []
    }
  ]
}