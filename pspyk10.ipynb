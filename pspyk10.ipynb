{
  "nbformat": 4,
  "nbformat_minor": 0,
  "metadata": {
    "colab": {
      "provenance": [],
      "include_colab_link": true
    },
    "kernelspec": {
      "name": "python3",
      "display_name": "Python 3"
    },
    "language_info": {
      "name": "python"
    }
  },
  "cells": [
    {
      "cell_type": "markdown",
      "metadata": {
        "id": "view-in-github",
        "colab_type": "text"
      },
      "source": [
        "<a href=\"https://colab.research.google.com/github/Mr-Hackrr/pySpark/blob/main/pspyk10.ipynb\" target=\"_parent\"><img src=\"https://colab.research.google.com/assets/colab-badge.svg\" alt=\"Open In Colab\"/></a>"
      ]
    },
    {
      "cell_type": "code",
      "execution_count": null,
      "metadata": {
        "id": "vpo5Vr0QiMUE"
      },
      "outputs": [],
      "source": [
        "#Create local file with the following data\n",
        "\n",
        "Complete the following code using pyspark RDDs\n",
        "\n",
        "movie.csv\n",
        "movieId,moviename,director,year\n",
        "200,shawshank,FrankD,1994\n",
        "201,saw,JamesW,2004\n",
        "202,avengers,JossW,2012\n",
        "204,mi,ChristopherMcq,2018\n",
        "205,wrongturn,DeclanO,2011\n",
        "\n",
        "award.csv\n",
        "catalogId,movieId,awards\n",
        "11,200,2\n",
        "12,200,3\n",
        "13,201,1\n",
        "14,202,3\n",
        "15,202,5\n",
        "16,204,4\n",
        "17,205,1"
      ]
    },
    {
      "cell_type": "code",
      "source": [
        "# prompt: make abouve data into csv files\n",
        "\n",
        "%%writefile movie.csv\n",
        "movieId,moviename,director,year\n",
        "200,shawshank,FrankD,1994\n",
        "201,saw,JamesW,2004\n",
        "202,avengers,JossW,2012\n",
        "204,mi,ChristopherMcq,2018\n",
        "205,wrongturn,DeclanO,2011\n",
        "\n"
      ],
      "metadata": {
        "colab": {
          "base_uri": "https://localhost:8080/"
        },
        "id": "kOHSImYG2X4S",
        "outputId": "02504578-1c79-47bb-cd38-6340dfd593bb"
      },
      "execution_count": 4,
      "outputs": [
        {
          "output_type": "stream",
          "name": "stdout",
          "text": [
            "Writing movie.csv\n"
          ]
        }
      ]
    },
    {
      "cell_type": "code",
      "source": [
        "%%writefile award.csv\n",
        "catalogId,movieId,awards\n",
        "11,200,2\n",
        "12,200,3\n",
        "13,201,1\n",
        "14,202,3\n",
        "15,202,5\n",
        "16,204,4\n",
        "17,205,1"
      ],
      "metadata": {
        "colab": {
          "base_uri": "https://localhost:8080/"
        },
        "id": "h6cgxHPK2o_p",
        "outputId": "b9e64a54-8111-4a75-955f-9823f8035705"
      },
      "execution_count": 5,
      "outputs": [
        {
          "output_type": "stream",
          "name": "stdout",
          "text": [
            "Writing award.csv\n"
          ]
        }
      ]
    },
    {
      "cell_type": "code",
      "source": [
        "pip install pyspark"
      ],
      "metadata": {
        "colab": {
          "base_uri": "https://localhost:8080/"
        },
        "id": "AxZCqvT01azy",
        "outputId": "a9d853d5-0c73-4c21-9b46-52adfcf8b2f8"
      },
      "execution_count": 2,
      "outputs": [
        {
          "output_type": "stream",
          "name": "stdout",
          "text": [
            "Collecting pyspark\n",
            "  Downloading pyspark-3.5.1.tar.gz (317.0 MB)\n",
            "\u001b[2K     \u001b[90m━━━━━━━━━━━━━━━━━━━━━━━━━━━━━━━━━━━━━━━━\u001b[0m \u001b[32m317.0/317.0 MB\u001b[0m \u001b[31m2.2 MB/s\u001b[0m eta \u001b[36m0:00:00\u001b[0m\n",
            "\u001b[?25h  Preparing metadata (setup.py) ... \u001b[?25l\u001b[?25hdone\n",
            "Requirement already satisfied: py4j==0.10.9.7 in /usr/local/lib/python3.10/dist-packages (from pyspark) (0.10.9.7)\n",
            "Building wheels for collected packages: pyspark\n",
            "  Building wheel for pyspark (setup.py) ... \u001b[?25l\u001b[?25hdone\n",
            "  Created wheel for pyspark: filename=pyspark-3.5.1-py2.py3-none-any.whl size=317488491 sha256=a5dcedf0fe3dbe9d5df1d683db8e6dd43616b5e9239e99c9caa8dc0fc032e088\n",
            "  Stored in directory: /root/.cache/pip/wheels/80/1d/60/2c256ed38dddce2fdd93be545214a63e02fbd8d74fb0b7f3a6\n",
            "Successfully built pyspark\n",
            "Installing collected packages: pyspark\n",
            "Successfully installed pyspark-3.5.1\n"
          ]
        }
      ]
    },
    {
      "cell_type": "code",
      "source": [
        "#Import libraries & Create SparkSession\n",
        "from pyspark.sql import *\n",
        "from pyspark.sql.functions import *\n",
        "spark = SparkSession.builder.appName(\"movie analysis\").getOrCreate()"
      ],
      "metadata": {
        "id": "deuJPwWWiUqv"
      },
      "execution_count": 6,
      "outputs": []
    },
    {
      "cell_type": "code",
      "source": [
        "#Create two dataframes using respective csv files from local storage\n",
        "movie_data = spark.read.option(\"header\",\"True\").csv(\"movie.csv\")\n",
        "award_data = spark.read.option(\"header\",\"True\").csv(\"award.csv\")\n",
        "movie_data.limit(3).show()\n",
        "award_data.limit(3).show()"
      ],
      "metadata": {
        "id": "xgXdfz2HiUta",
        "colab": {
          "base_uri": "https://localhost:8080/"
        },
        "outputId": "99a78394-e8ce-4925-dfa5-b01c614844f3"
      },
      "execution_count": 7,
      "outputs": [
        {
          "output_type": "stream",
          "name": "stdout",
          "text": [
            "+-------+---------+--------+----+\n",
            "|movieId|moviename|director|year|\n",
            "+-------+---------+--------+----+\n",
            "|    200|shawshank|  FrankD|1994|\n",
            "|    201|      saw|  JamesW|2004|\n",
            "|    202| avengers|   JossW|2012|\n",
            "+-------+---------+--------+----+\n",
            "\n",
            "+---------+-------+------+\n",
            "|catalogId|movieId|awards|\n",
            "+---------+-------+------+\n",
            "|       11|    200|     2|\n",
            "|       12|    200|     3|\n",
            "|       13|    201|     1|\n",
            "+---------+-------+------+\n",
            "\n"
          ]
        }
      ]
    },
    {
      "cell_type": "code",
      "source": [
        "#Create a new column called \"movieInfo\" in movies dataframe which includes movieName & Director\n",
        "#from pyspark.sql.functions import concat, lit\n",
        "movie_data.withColumn(\"movieinfo\",concat(movie_data.moviename,lit(\" \"),movie_data.director)).show()\n"
      ],
      "metadata": {
        "id": "tvQmmuuSiUwI",
        "colab": {
          "base_uri": "https://localhost:8080/"
        },
        "outputId": "baf7f6c6-1ffd-4832-c467-2c31dd3d4eef"
      },
      "execution_count": 16,
      "outputs": [
        {
          "output_type": "stream",
          "name": "stdout",
          "text": [
            "+-------+---------+--------------+----+-----------------+\n",
            "|movieId|moviename|      director|year|        movieinfo|\n",
            "+-------+---------+--------------+----+-----------------+\n",
            "|    200|shawshank|        FrankD|1994| shawshank FrankD|\n",
            "|    201|      saw|        JamesW|2004|       saw JamesW|\n",
            "|    202| avengers|         JossW|2012|   avengers JossW|\n",
            "|    204|       mi|ChristopherMcq|2018|mi ChristopherMcq|\n",
            "|    205|wrongturn|       DeclanO|2011|wrongturn DeclanO|\n",
            "+-------+---------+--------------+----+-----------------+\n",
            "\n"
          ]
        }
      ]
    },
    {
      "cell_type": "code",
      "source": [
        "#Calculate total number of awards for each movie & display - movieID, movienName, awardsCount\n",
        "full_data = movie_data.join(award_data,movie_data.movieId == award_data.movieId)\n",
        "full_data.groupBy(movie_data.moviename,movie_data.movieId).agg({'awards':'sum'}).show()\n"
      ],
      "metadata": {
        "id": "7gl8AFTDiUzB",
        "colab": {
          "base_uri": "https://localhost:8080/"
        },
        "outputId": "d160f45c-63b9-454d-d87b-bb4a9f4d66a1"
      },
      "execution_count": 58,
      "outputs": [
        {
          "output_type": "stream",
          "name": "stdout",
          "text": [
            "+---------+-------+-----------+\n",
            "|moviename|movieId|sum(awards)|\n",
            "+---------+-------+-----------+\n",
            "|wrongturn|    205|        1.0|\n",
            "|shawshank|    200|        5.0|\n",
            "|       mi|    204|        4.0|\n",
            "|      saw|    201|        1.0|\n",
            "| avengers|    202|        8.0|\n",
            "+---------+-------+-----------+\n",
            "\n"
          ]
        }
      ]
    },
    {
      "cell_type": "code",
      "source": [
        "#Get top three movies on the basis of number of awards\n",
        "full_data = movie_data.join(award_data,movie_data.movieId == award_data.movieId)\n",
        "new_data = full_data.groupBy(movie_data.moviename,movie_data.movieId).agg({'awards':'sum'}).withColumnRenamed(\"sum(awards)\",\"awardCount\")\n",
        "new_data.sort(col(\"awardCount\").desc()).limit(3).show()"
      ],
      "metadata": {
        "id": "sPlzRfJtiU1W",
        "colab": {
          "base_uri": "https://localhost:8080/"
        },
        "outputId": "eb1ec5d1-afee-4805-f1c0-f080157f7e97"
      },
      "execution_count": 63,
      "outputs": [
        {
          "output_type": "stream",
          "name": "stdout",
          "text": [
            "+---------+-------+----------+\n",
            "|moviename|movieId|awardCount|\n",
            "+---------+-------+----------+\n",
            "| avengers|    202|       8.0|\n",
            "|shawshank|    200|       5.0|\n",
            "|       mi|    204|       4.0|\n",
            "+---------+-------+----------+\n",
            "\n"
          ]
        }
      ]
    },
    {
      "cell_type": "code",
      "source": [
        "#Get top three latest movies\n",
        "movie_data.orderBy(col('year').desc()).limit(3).show()"
      ],
      "metadata": {
        "id": "cLlpSGfqiU3n",
        "colab": {
          "base_uri": "https://localhost:8080/"
        },
        "outputId": "e55fc00a-c93a-4256-cc4b-28dbb5bc8914"
      },
      "execution_count": 67,
      "outputs": [
        {
          "output_type": "stream",
          "name": "stdout",
          "text": [
            "+-------+---------+--------------+----+\n",
            "|movieId|moviename|      director|year|\n",
            "+-------+---------+--------------+----+\n",
            "|    204|       mi|ChristopherMcq|2018|\n",
            "|    202| avengers|         JossW|2012|\n",
            "|    205|wrongturn|       DeclanO|2011|\n",
            "+-------+---------+--------------+----+\n",
            "\n"
          ]
        }
      ]
    }
  ]
}