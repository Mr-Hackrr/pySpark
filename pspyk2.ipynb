{
  "nbformat": 4,
  "nbformat_minor": 0,
  "metadata": {
    "colab": {
      "provenance": []
    },
    "kernelspec": {
      "name": "python3",
      "display_name": "Python 3"
    },
    "language_info": {
      "name": "python"
    }
  },
  "cells": [
    {
      "cell_type": "markdown",
      "source": [
        "#SparkSQL\n",
        "\n",
        "Working with PySpark's built-in SQL compliant functionality to investigate flights-delay data at scale\n",
        "\n",
        "\n",
        "*   Understand the limitations of SparkSQL\n",
        "*   Experiment with createOrReplaceGlobalView\n",
        "*   Work on same executions through pyspark methods\n",
        "\n"
      ],
      "metadata": {
        "id": "u9qknWb9bfXd"
      }
    },
    {
      "cell_type": "markdown",
      "source": [],
      "metadata": {
        "id": "qI1VYmcM9Oe6"
      }
    },
    {
      "cell_type": "code",
      "execution_count": null,
      "metadata": {
        "id": "XLzhcLK6bVbq"
      },
      "outputs": [],
      "source": [
        "#Download Data from source\n",
        "Data Source Repo - https://kloudbitbucket.s3.amazonaws.com/krunal_ds/departuredelays.csv"
      ]
    },
    {
      "cell_type": "code",
      "source": [
        "pip install pyspark"
      ],
      "metadata": {
        "colab": {
          "base_uri": "https://localhost:8080/"
        },
        "id": "O57v5P3Q9dfG",
        "outputId": "a75e8a93-dcac-4ed9-9d42-01362669df5c"
      },
      "execution_count": 1,
      "outputs": [
        {
          "output_type": "stream",
          "name": "stdout",
          "text": [
            "Collecting pyspark\n",
            "  Downloading pyspark-3.5.1.tar.gz (317.0 MB)\n",
            "\u001b[2K     \u001b[90m━━━━━━━━━━━━━━━━━━━━━━━━━━━━━━━━━━━━━━━━\u001b[0m \u001b[32m317.0/317.0 MB\u001b[0m \u001b[31m3.6 MB/s\u001b[0m eta \u001b[36m0:00:00\u001b[0m\n",
            "\u001b[?25h  Preparing metadata (setup.py) ... \u001b[?25l\u001b[?25hdone\n",
            "Requirement already satisfied: py4j==0.10.9.7 in /usr/local/lib/python3.10/dist-packages (from pyspark) (0.10.9.7)\n",
            "Building wheels for collected packages: pyspark\n",
            "  Building wheel for pyspark (setup.py) ... \u001b[?25l\u001b[?25hdone\n",
            "  Created wheel for pyspark: filename=pyspark-3.5.1-py2.py3-none-any.whl size=317488491 sha256=fb3380ba9d15dabc94c9b062ab297c0eb9066685af601c2f9b06deb079f9d696\n",
            "  Stored in directory: /root/.cache/pip/wheels/80/1d/60/2c256ed38dddce2fdd93be545214a63e02fbd8d74fb0b7f3a6\n",
            "Successfully built pyspark\n",
            "Installing collected packages: pyspark\n",
            "Successfully installed pyspark-3.5.1\n"
          ]
        }
      ]
    },
    {
      "cell_type": "code",
      "source": [],
      "metadata": {
        "id": "BZNlk8rT9did"
      },
      "execution_count": null,
      "outputs": []
    },
    {
      "cell_type": "code",
      "source": [
        "#Import necessary spark components\n",
        "from pyspark.sql import *\n",
        "from pyspark.sql.functions import *\n"
      ],
      "metadata": {
        "id": "3UdCaWepbetc"
      },
      "execution_count": 2,
      "outputs": []
    },
    {
      "cell_type": "code",
      "source": [
        "#Create a SparkSession\n",
        "spark = SparkSession.builder.appName(\"sqlpractice\").getOrCreate()"
      ],
      "metadata": {
        "id": "6FP1wdXTbewW"
      },
      "execution_count": 3,
      "outputs": []
    },
    {
      "cell_type": "code",
      "source": [
        "#Import Data into Spark Native Dataframe\n",
        "df = spark.read.option(\"Header\",\"True\").csv(\"/content/departuredelays.csv\")"
      ],
      "metadata": {
        "id": "gXObRS7gbezU"
      },
      "execution_count": 8,
      "outputs": []
    },
    {
      "cell_type": "code",
      "source": [
        "#Convert into an SQL complaint format\n",
        "sdf = df\n",
        "sdf.createOrReplaceTempView(\"delays\")"
      ],
      "metadata": {
        "id": "DqYqJHizbe3y"
      },
      "execution_count": 17,
      "outputs": []
    },
    {
      "cell_type": "code",
      "source": [
        "#Display 100 rows of data with SQL query\n",
        "spark.sql(\"select * from delays limit 100\").show()"
      ],
      "metadata": {
        "id": "MWu1GiPwbe6n",
        "colab": {
          "base_uri": "https://localhost:8080/"
        },
        "outputId": "d72f0b9c-46f0-4bdb-d861-85c29848e11c"
      },
      "execution_count": 23,
      "outputs": [
        {
          "output_type": "stream",
          "name": "stdout",
          "text": [
            "+--------+-----+--------+------+-----------+\n",
            "|    date|delay|distance|origin|destination|\n",
            "+--------+-----+--------+------+-----------+\n",
            "|01011245|    6|     602|   ABE|        ATL|\n",
            "|01020600|   -8|     369|   ABE|        DTW|\n",
            "|01021245|   -2|     602|   ABE|        ATL|\n",
            "|01020605|   -4|     602|   ABE|        ATL|\n",
            "|01031245|   -4|     602|   ABE|        ATL|\n",
            "|01030605|    0|     602|   ABE|        ATL|\n",
            "|01041243|   10|     602|   ABE|        ATL|\n",
            "|01040605|   28|     602|   ABE|        ATL|\n",
            "|01051245|   88|     602|   ABE|        ATL|\n",
            "|01050605|    9|     602|   ABE|        ATL|\n",
            "|01061215|   -6|     602|   ABE|        ATL|\n",
            "|01061725|   69|     602|   ABE|        ATL|\n",
            "|01061230|    0|     369|   ABE|        DTW|\n",
            "|01060625|   -3|     602|   ABE|        ATL|\n",
            "|01070600|    0|     369|   ABE|        DTW|\n",
            "|01071725|    0|     602|   ABE|        ATL|\n",
            "|01071230|    0|     369|   ABE|        DTW|\n",
            "|01070625|    0|     602|   ABE|        ATL|\n",
            "|01071219|    0|     569|   ABE|        ORD|\n",
            "|01080600|    0|     369|   ABE|        DTW|\n",
            "+--------+-----+--------+------+-----------+\n",
            "only showing top 20 rows\n",
            "\n"
          ]
        }
      ]
    },
    {
      "cell_type": "code",
      "source": [
        "#Get a list of all Origin and Destination airports\n",
        "spark.sql(\"select distinct origin,destination from delays\").show()"
      ],
      "metadata": {
        "id": "eWGh0GpWcRsX",
        "colab": {
          "base_uri": "https://localhost:8080/"
        },
        "outputId": "3a67ee88-21cd-48c7-8797-eb31982d7d84"
      },
      "execution_count": 24,
      "outputs": [
        {
          "output_type": "stream",
          "name": "stdout",
          "text": [
            "+------+-----------+\n",
            "|origin|destination|\n",
            "+------+-----------+\n",
            "|   ATL|        GSP|\n",
            "|   BQN|        MCO|\n",
            "|   CLE|        SJU|\n",
            "|   DSM|        EWR|\n",
            "|   EWR|        STT|\n",
            "|   FSD|        ATL|\n",
            "|   LAS|        LIT|\n",
            "|   LBB|        DEN|\n",
            "|   MCI|        IAH|\n",
            "|   MCI|        MKE|\n",
            "|   MDW|        MEM|\n",
            "|   ORD|        PDX|\n",
            "|   PBI|        DCA|\n",
            "|   PHL|        MCO|\n",
            "|   ROC|        CLE|\n",
            "|   SJC|        LIH|\n",
            "|   SMF|        BUR|\n",
            "|   SNA|        PHX|\n",
            "|   AUS|        ELP|\n",
            "|   BMI|        MCO|\n",
            "+------+-----------+\n",
            "only showing top 20 rows\n",
            "\n"
          ]
        }
      ]
    },
    {
      "cell_type": "code",
      "source": [
        "#Find the top 5 longest distance travel routes\n",
        "spark.sql(\"select * from delays order by distance desc limit 5\").show()"
      ],
      "metadata": {
        "id": "QKnQPgqicRvS",
        "colab": {
          "base_uri": "https://localhost:8080/"
        },
        "outputId": "d2924c59-dde5-4692-9ff4-9f14da0a9835"
      },
      "execution_count": 27,
      "outputs": [
        {
          "output_type": "stream",
          "name": "stdout",
          "text": [
            "+--------+-----+--------+------+-----------+\n",
            "|    date|delay|distance|origin|destination|\n",
            "+--------+-----+--------+------+-----------+\n",
            "|02010751|   23|     999|   DSM|        PHX|\n",
            "|01071459|   11|     999|   DSM|        PHX|\n",
            "|02030751|    6|     999|   DSM|        PHX|\n",
            "|01090751|    5|     999|   DSM|        PHX|\n",
            "|02011459|   -1|     999|   DSM|        PHX|\n",
            "+--------+-----+--------+------+-----------+\n",
            "\n"
          ]
        }
      ]
    },
    {
      "cell_type": "code",
      "source": [
        "#Find top 3 origin airport with maximum flight delay occurances\n",
        "spark.sql(\n",
        "\"\"\"\n",
        "select origin\n",
        "from delays\n",
        "group by origin\n",
        "order by count(delay) desc limit 3\n",
        "\"\"\").show()"
      ],
      "metadata": {
        "id": "-UNJNctPcRx2",
        "colab": {
          "base_uri": "https://localhost:8080/"
        },
        "outputId": "6a65f870-a3c8-4d40-91c2-e4b9d0e723ca"
      },
      "execution_count": 51,
      "outputs": [
        {
          "output_type": "stream",
          "name": "stdout",
          "text": [
            "+------+\n",
            "|origin|\n",
            "+------+\n",
            "|   ATL|\n",
            "|   DFW|\n",
            "|   ORD|\n",
            "+------+\n",
            "\n"
          ]
        }
      ]
    },
    {
      "cell_type": "code",
      "source": [
        "# prompt: Find top 3 origin airport with maximum flight delay occurances what is the meaning odf it\n",
        "\n",
        "spark.sql(\"\"\"\n",
        "SELECT origin, COUNT(*) as num_delays\n",
        "FROM delays\n",
        "WHERE delay > 0\n",
        "GROUP BY origin\n",
        "ORDER BY num_delays DESC LIMIT 3\n",
        "\"\"\").show()\n",
        "\n",
        "# This SQL query finds the top 3 origin airports with the most flight delays.\n",
        "# It counts the number of delays for each origin airport (where delay is greater than 0), groups the results by origin,\n",
        "# orders them in descending order based on the count, and limits the output to the top 3.\n",
        "# This helps identify the airports that experience the most flight delays.\n"
      ],
      "metadata": {
        "colab": {
          "base_uri": "https://localhost:8080/"
        },
        "id": "CUSN1sKbIE2g",
        "outputId": "94b786b5-c348-452b-af07-5fc537dbabbf"
      },
      "execution_count": 33,
      "outputs": [
        {
          "output_type": "stream",
          "name": "stdout",
          "text": [
            "+------+----------+\n",
            "|origin|num_delays|\n",
            "+------+----------+\n",
            "|   ATL|     35209|\n",
            "|   ORD|     22867|\n",
            "|   DEN|     20820|\n",
            "+------+----------+\n",
            "\n"
          ]
        }
      ]
    },
    {
      "cell_type": "code",
      "source": [
        "#Find top 3 destination airport with maximum flight delay occurances\n",
        "spark.sql(\n",
        "    \"\"\"\n",
        "    select origin,destination,max(delay) as delay_max\n",
        "    from delays\n",
        "    group by origin,destination\n",
        "    order by delay_max desc\n",
        "    limit 1\n",
        "    \"\"\"\n",
        ").show()"
      ],
      "metadata": {
        "id": "0YeWikvEcR0h",
        "colab": {
          "base_uri": "https://localhost:8080/"
        },
        "outputId": "636d3ca7-071a-4072-ea04-5af99c0c40e5"
      },
      "execution_count": 40,
      "outputs": [
        {
          "output_type": "stream",
          "name": "stdout",
          "text": [
            "+------+-----------+---------+\n",
            "|origin|destination|delay_max|\n",
            "+------+-----------+---------+\n",
            "|   SMF|        SLC|      995|\n",
            "+------+-----------+---------+\n",
            "\n"
          ]
        }
      ]
    },
    {
      "cell_type": "code",
      "source": [
        "#Find the top three routes with maximum time-delay\n",
        "spark.sql(\"select* from delays order by delay desc limit 3\").show()"
      ],
      "metadata": {
        "id": "0OX5pSTqcR5s",
        "colab": {
          "base_uri": "https://localhost:8080/"
        },
        "outputId": "cbe5dafd-adfc-4ed6-db01-714f9c1383f2"
      },
      "execution_count": 49,
      "outputs": [
        {
          "output_type": "stream",
          "name": "stdout",
          "text": [
            "+--------+-----+--------+------+-----------+\n",
            "|    date|delay|distance|origin|destination|\n",
            "+--------+-----+--------+------+-----------+\n",
            "|01090600|  995|     462|   SMF|        SLC|\n",
            "|01200645|  993|     525|   MOT|        DEN|\n",
            "|02061431|   99|     347|   DCA|        BOS|\n",
            "+--------+-----+--------+------+-----------+\n",
            "\n"
          ]
        }
      ]
    },
    {
      "cell_type": "code",
      "source": [
        "#Find the distance for top three max time-delay routes\n",
        "spark.sql(\"select * from delays order by distance desc limit 3\").show()"
      ],
      "metadata": {
        "id": "oHf6MWCxcSAy",
        "colab": {
          "base_uri": "https://localhost:8080/"
        },
        "outputId": "3b8d9468-5a79-494f-dd45-7c65163e8a66"
      },
      "execution_count": 50,
      "outputs": [
        {
          "output_type": "stream",
          "name": "stdout",
          "text": [
            "+--------+-----+--------+------+-----------+\n",
            "|    date|delay|distance|origin|destination|\n",
            "+--------+-----+--------+------+-----------+\n",
            "|02010751|   23|     999|   DSM|        PHX|\n",
            "|01071459|   11|     999|   DSM|        PHX|\n",
            "|02020751|  120|     999|   DSM|        PHX|\n",
            "+--------+-----+--------+------+-----------+\n",
            "\n"
          ]
        }
      ]
    },
    {
      "cell_type": "code",
      "source": [],
      "metadata": {
        "id": "Ual3Wsb9eUCE"
      },
      "execution_count": null,
      "outputs": []
    }
  ]
}