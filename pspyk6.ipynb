{
  "nbformat": 4,
  "nbformat_minor": 0,
  "metadata": {
    "colab": {
      "provenance": [],
      "include_colab_link": true
    },
    "kernelspec": {
      "name": "python3",
      "display_name": "Python 3"
    },
    "language_info": {
      "name": "python"
    }
  },
  "cells": [
    {
      "cell_type": "markdown",
      "metadata": {
        "id": "view-in-github",
        "colab_type": "text"
      },
      "source": [
        "<a href=\"https://colab.research.google.com/github/Mr-Hackrr/pySpark/blob/main/pspyk6.ipynb\" target=\"_parent\"><img src=\"https://colab.research.google.com/assets/colab-badge.svg\" alt=\"Open In Colab\"/></a>"
      ]
    },
    {
      "cell_type": "markdown",
      "source": [
        "#Json Data handling"
      ],
      "metadata": {
        "id": "HOITHcD5k6Ml"
      }
    },
    {
      "cell_type": "code",
      "execution_count": null,
      "metadata": {
        "id": "k6Y-462uk3wo"
      },
      "outputs": [],
      "source": [
        "#Download sample file data\n",
        "https://kloudkraft-dumps.s3.us-west-1.amazonaws.com/json/books1.json\n",
        "https://kloudkraft-dumps.s3.us-west-1.amazonaws.com/json/colors.json"
      ]
    },
    {
      "cell_type": "code",
      "source": [
        "%%writefile olympics.json\n",
        "{\"id\":\"978-0641723445\",\"cat\":\"book\",\"name\":\"The Lightning Thief\",\"author\":\"Rick Riordan\",\"series_t\":\"Percy Jackson and the Olympians\",\"sequence_i\":1,\"genre_s\":\"fantasy\",\"inStock\":true,\"price\":12.50,\"pages_i\":384}\n",
        "{\"id\":\"978-1423103349\",\"cat\":\"paperback\",\"name\":\"The Sea of Monsters\",\"author\":\"Rick Riordan\",\"series_t\":\"Percy Jackson and the Olympians\",\"sequence_i\":2,\"genre_s\":\"fantasy\",\"inStock\":true,\"price\":6.49,\"pages_i\":304}\n",
        "{\"id\":\"978-1857995879\",\"cat\":\"paperback\",\"name\":\"Sophie's World : The Greek Philosophers\",\"author\":\"Jostein Gaarder\",\"sequence_i\":1,\"genre_s\":\"fantasy\",\"inStock\":true,\"price\":3.07,\"pages_i\":64}\n",
        "{\"id\":\"978-1923988177\",\"cat\":\"paperback\",\"name\":\"Lucene in Action, Second Edition\",\"author\":\"Michael McCandless\",\"sequence_i\":1,\"genre_s\":\"IT\",\"inStock\":true,\"price\":30.50,\"pages_i\":475}\n",
        "{\"id\":\"978-1933988077\",\"cat\":\"paperback\",\"name\":\"Lucene in Action, Second Edition\",\"author\":\"Michael McCandless\",\"sequence_i\":1,\"genre_s\":\"IT\",\"inStock\":true,\"price\":30.50,\"pages_i\":475}\n",
        "{\"id\":\"968-1933988177\",\"cat\":\"paperback\",\"name\":\"Lucene in Action, Second Edition\",\"author\":\"Michael McCandless\",\"sequence_i\":1,\"genre_s\":\"IT\",\"inStock\":true,\"price\":30.50,\"pages_i\":300}\n",
        "{\"id\":\"978-2933988077\",\"cat\":\"paperback\",\"name\":\"Lucene in Action, Second Edition\",\"author\":\"Michael McCandless\",\"sequence_i\":1,\"genre_s\":\"IT\",\"inStock\":true,\"price\":30.50,\"pages_i\":475}"
      ],
      "metadata": {
        "id": "JxG3FuveNfgk",
        "outputId": "f9b7cc6c-0007-4b39-88df-bf10ff090ac3",
        "colab": {
          "base_uri": "https://localhost:8080/"
        }
      },
      "execution_count": 1,
      "outputs": [
        {
          "output_type": "stream",
          "name": "stdout",
          "text": [
            "Writing olympics.json\n"
          ]
        }
      ]
    },
    {
      "cell_type": "code",
      "source": [
        "%%writefile rgb.json\n",
        "{\"color\": \"black\",  \"category\": \"hue\",  \"type\": \"primary\",  \"code\": {    \"rgba\": [255,255,255,1],    \"hex\": \"#000\"  },\"other\":{\"type\":\"good\"}}\n",
        "{\"color\": \"white\",\"category\": \"value\",\"code\": {\"rgba\": [0,0,0,1],\"hex\": \"#FFF\"},\"other\":{\"type\":\"good\"}}\n",
        "{\"color\": \"red\",\"category\": \"hue\",\"type\": \"primary\",\"code\": {\"rgba\": [255,0,0,1],\"hex\": \"#FF0\"},\"other\":{\"type\":\"ok\"}}\n",
        "{\"color\": \"blue\",\"category\": \"hue\",\"type\": \"primary\",\"code\": {\"rgba\": [0,0,255,1],\"hex\": \"#00F\"},\"other\":{\"type\":\"good\"}}\n",
        "{\"color\": \"yellow\",\"category\": \"hue\",\"type\": \"primary\",\"code\": {\"rgba\": [255,255,0,1],\"hex\": \"#FF0\"},\"other\":{\"type\":\"ok\"}}\n",
        "{\"color\": \"green\",\"category\": \"hue\",\"type\": \"secondary\",\"code\": {\"rgba\": [0,255,0,1],\"hex\": \"#0F0\"},\"other\":{\"type\":\"good\"}}"
      ],
      "metadata": {
        "id": "cFdk4zWhN4Ji",
        "outputId": "caa120ac-a212-42bb-c15a-d4d70303e62e",
        "colab": {
          "base_uri": "https://localhost:8080/"
        }
      },
      "execution_count": 2,
      "outputs": [
        {
          "output_type": "stream",
          "name": "stdout",
          "text": [
            "Writing rgb.json\n"
          ]
        }
      ]
    },
    {
      "cell_type": "code",
      "source": [
        "pip install pyspark"
      ],
      "metadata": {
        "id": "3-ydUwCbOBXt",
        "outputId": "18d7141b-fa49-42d2-d0dc-64960514eba0",
        "colab": {
          "base_uri": "https://localhost:8080/"
        }
      },
      "execution_count": 3,
      "outputs": [
        {
          "output_type": "stream",
          "name": "stdout",
          "text": [
            "Collecting pyspark\n",
            "  Downloading pyspark-3.5.1.tar.gz (317.0 MB)\n",
            "\u001b[2K     \u001b[90m━━━━━━━━━━━━━━━━━━━━━━━━━━━━━━━━━━━━━━━━\u001b[0m \u001b[32m317.0/317.0 MB\u001b[0m \u001b[31m1.5 MB/s\u001b[0m eta \u001b[36m0:00:00\u001b[0m\n",
            "\u001b[?25h  Preparing metadata (setup.py) ... \u001b[?25l\u001b[?25hdone\n",
            "Requirement already satisfied: py4j==0.10.9.7 in /usr/local/lib/python3.10/dist-packages (from pyspark) (0.10.9.7)\n",
            "Building wheels for collected packages: pyspark\n",
            "  Building wheel for pyspark (setup.py) ... \u001b[?25l\u001b[?25hdone\n",
            "  Created wheel for pyspark: filename=pyspark-3.5.1-py2.py3-none-any.whl size=317488491 sha256=37263cce22f7c83651663c0d53117972704300ec46137a9fe1b2e09d820a0d9c\n",
            "  Stored in directory: /root/.cache/pip/wheels/80/1d/60/2c256ed38dddce2fdd93be545214a63e02fbd8d74fb0b7f3a6\n",
            "Successfully built pyspark\n",
            "Installing collected packages: pyspark\n",
            "Successfully installed pyspark-3.5.1\n"
          ]
        }
      ]
    },
    {
      "cell_type": "code",
      "source": [
        "from pyspark.sql import SparkSession\n",
        "from pyspark.sql.functions import *"
      ],
      "metadata": {
        "id": "Jjkl-CFpOBbZ"
      },
      "execution_count": 4,
      "outputs": []
    },
    {
      "cell_type": "code",
      "source": [
        "#Import Sparksesion\n",
        "spark = SparkSession.builder.appName(\"json\").getOrCreate()\n"
      ],
      "metadata": {
        "id": "6TeLDAq0k58K"
      },
      "execution_count": 6,
      "outputs": []
    },
    {
      "cell_type": "code",
      "source": [
        "#Create SparkSession\n"
      ],
      "metadata": {
        "id": "VrGF2m1dlsGn"
      },
      "execution_count": 7,
      "outputs": []
    },
    {
      "cell_type": "code",
      "source": [
        "#Create dataframe from parquet file\n",
        "olympics_data = spark.read.option(\"header\",\"true\").json(\"olympics.json\")"
      ],
      "metadata": {
        "id": "hmCPMsMRlsJb"
      },
      "execution_count": 9,
      "outputs": []
    },
    {
      "cell_type": "code",
      "source": [
        "#Print dataframe schema\n",
        "olympics_data.printSchema()"
      ],
      "metadata": {
        "id": "ExE-kNcwlsME",
        "outputId": "d53ea96d-de44-4125-d2bd-f88c4e3e85ba",
        "colab": {
          "base_uri": "https://localhost:8080/"
        }
      },
      "execution_count": 10,
      "outputs": [
        {
          "output_type": "stream",
          "name": "stdout",
          "text": [
            "root\n",
            " |-- author: string (nullable = true)\n",
            " |-- cat: string (nullable = true)\n",
            " |-- genre_s: string (nullable = true)\n",
            " |-- id: string (nullable = true)\n",
            " |-- inStock: boolean (nullable = true)\n",
            " |-- name: string (nullable = true)\n",
            " |-- pages_i: long (nullable = true)\n",
            " |-- price: double (nullable = true)\n",
            " |-- sequence_i: long (nullable = true)\n",
            " |-- series_t: string (nullable = true)\n",
            "\n"
          ]
        }
      ]
    },
    {
      "cell_type": "code",
      "source": [
        "#Show dataframe\n",
        "olympics_data.show()"
      ],
      "metadata": {
        "id": "ZQToN44IlsOt",
        "outputId": "9545e1a9-b63e-4a60-9ca9-cd85c52f82dc",
        "colab": {
          "base_uri": "https://localhost:8080/"
        }
      },
      "execution_count": 13,
      "outputs": [
        {
          "output_type": "stream",
          "name": "stdout",
          "text": [
            "+------------------+---------+-------+--------------+-------+--------------------+-------+-----+----------+--------------------+\n",
            "|            author|      cat|genre_s|            id|inStock|                name|pages_i|price|sequence_i|            series_t|\n",
            "+------------------+---------+-------+--------------+-------+--------------------+-------+-----+----------+--------------------+\n",
            "|      Rick Riordan|     book|fantasy|978-0641723445|   true| The Lightning Thief|    384| 12.5|         1|Percy Jackson and...|\n",
            "|      Rick Riordan|paperback|fantasy|978-1423103349|   true| The Sea of Monsters|    304| 6.49|         2|Percy Jackson and...|\n",
            "|   Jostein Gaarder|paperback|fantasy|978-1857995879|   true|Sophie's World : ...|     64| 3.07|         1|                NULL|\n",
            "|Michael McCandless|paperback|     IT|978-1923988177|   true|Lucene in Action,...|    475| 30.5|         1|                NULL|\n",
            "|Michael McCandless|paperback|     IT|978-1933988077|   true|Lucene in Action,...|    475| 30.5|         1|                NULL|\n",
            "|Michael McCandless|paperback|     IT|968-1933988177|   true|Lucene in Action,...|    300| 30.5|         1|                NULL|\n",
            "|Michael McCandless|paperback|     IT|978-2933988077|   true|Lucene in Action,...|    475| 30.5|         1|                NULL|\n",
            "+------------------+---------+-------+--------------+-------+--------------------+-------+-----+----------+--------------------+\n",
            "\n"
          ]
        }
      ]
    },
    {
      "cell_type": "markdown",
      "source": [
        "* Perform any 3 data cleaning operations"
      ],
      "metadata": {
        "id": "YnPqSKSEmS1_"
      }
    },
    {
      "cell_type": "code",
      "source": [
        "#O1\n",
        "olympics_data.dropna().show()"
      ],
      "metadata": {
        "id": "yk0D7EAwlsSU",
        "outputId": "9b871f13-82f9-443a-eca3-a7e14e9a6ebd",
        "colab": {
          "base_uri": "https://localhost:8080/",
          "height": 163
        }
      },
      "execution_count": 14,
      "outputs": [
        {
          "output_type": "error",
          "ename": "NameError",
          "evalue": "name 'df' is not defined",
          "traceback": [
            "\u001b[0;31m---------------------------------------------------------------------------\u001b[0m",
            "\u001b[0;31mNameError\u001b[0m                                 Traceback (most recent call last)",
            "\u001b[0;32m<ipython-input-14-391f463e157b>\u001b[0m in \u001b[0;36m<cell line: 2>\u001b[0;34m()\u001b[0m\n\u001b[1;32m      1\u001b[0m \u001b[0;31m#O1\u001b[0m\u001b[0;34m\u001b[0m\u001b[0;34m\u001b[0m\u001b[0m\n\u001b[0;32m----> 2\u001b[0;31m \u001b[0mdf\u001b[0m\u001b[0;34m.\u001b[0m\u001b[0mdropna\u001b[0m\u001b[0;34m(\u001b[0m\u001b[0;34m)\u001b[0m\u001b[0;34m\u001b[0m\u001b[0;34m\u001b[0m\u001b[0m\n\u001b[0m",
            "\u001b[0;31mNameError\u001b[0m: name 'df' is not defined"
          ]
        }
      ]
    },
    {
      "cell_type": "code",
      "source": [
        "#O2\n",
        "\n",
        "\n"
      ],
      "metadata": {
        "id": "72KXSX-umb4c"
      },
      "execution_count": null,
      "outputs": []
    },
    {
      "cell_type": "code",
      "source": [
        "#O3\n",
        "\n",
        "\n"
      ],
      "metadata": {
        "id": "I2eV7jKVmb7Q"
      },
      "execution_count": null,
      "outputs": []
    },
    {
      "cell_type": "markdown",
      "source": [
        "* Fetch any 5 insights from data"
      ],
      "metadata": {
        "id": "WotP1zJFmfyo"
      }
    },
    {
      "cell_type": "code",
      "source": [
        "#Transformation1\n",
        "\n"
      ],
      "metadata": {
        "id": "HQG8Eu4IlsU6"
      },
      "execution_count": null,
      "outputs": []
    },
    {
      "cell_type": "code",
      "source": [
        "#Transformation2\n",
        "\n",
        "\n"
      ],
      "metadata": {
        "id": "4A3o6h9MlsW6"
      },
      "execution_count": null,
      "outputs": []
    },
    {
      "cell_type": "code",
      "source": [
        "#Transformation3\n",
        "\n",
        "\n"
      ],
      "metadata": {
        "id": "rtLZn4CwmnVu"
      },
      "execution_count": null,
      "outputs": []
    },
    {
      "cell_type": "code",
      "source": [
        "#Transformation4\n",
        "\n",
        "\n"
      ],
      "metadata": {
        "id": "zuLy9UKGmnYz"
      },
      "execution_count": null,
      "outputs": []
    },
    {
      "cell_type": "code",
      "source": [
        "#Transformation5\n",
        "\n",
        "\n"
      ],
      "metadata": {
        "id": "PoCICV0Wmnbg"
      },
      "execution_count": null,
      "outputs": []
    }
  ]
}