{
  "nbformat": 4,
  "nbformat_minor": 0,
  "metadata": {
    "colab": {
      "provenance": [],
      "include_colab_link": true
    },
    "kernelspec": {
      "name": "python3",
      "display_name": "Python 3"
    },
    "language_info": {
      "name": "python"
    }
  },
  "cells": [
    {
      "cell_type": "markdown",
      "metadata": {
        "id": "view-in-github",
        "colab_type": "text"
      },
      "source": [
        "<a href=\"https://colab.research.google.com/github/Mr-Hackrr/pySpark/blob/main/movies%20pyspark.ipynb\" target=\"_parent\"><img src=\"https://colab.research.google.com/assets/colab-badge.svg\" alt=\"Open In Colab\"/></a>"
      ]
    },
    {
      "cell_type": "code",
      "execution_count": 1,
      "metadata": {
        "id": "UoH8kZvLICAR",
        "outputId": "a910c5c2-8434-4861-cd06-569fb4f015f6",
        "colab": {
          "base_uri": "https://localhost:8080/"
        }
      },
      "outputs": [
        {
          "output_type": "stream",
          "name": "stdout",
          "text": [
            "Writing movies.csv\n"
          ]
        }
      ],
      "source": [
        "%%writefile movies.csv\n",
        "user_id,series,season,timestamp,genre,duration_mins\n",
        "521,”Mirzapur”,3,2024-07-30 15:00:00,action,300\n",
        "672,”Panchayat”,3,2024-07-30 15:00:00,comedy,200\n",
        "197,”Family Man”,2,2024-07-30 15:00:00,action,500\n",
        "521,”Mirzapur”,2,2024-07-29 15:00:00,action,280\n",
        "211,”Queens Gambit”,1,2024-07-30 15:00:00,drama,170\n",
        "521,”Mirzapur”,1,2024-07-28 15:00:00,action,230\n",
        "844,”Westworld”,3,2024-07-30 15:00:00,sci-fi,310\n",
        "672,”Panchayat”,3,2024-07-29 15:00:00,comedy,210\n",
        "256,”Homecoming”,2,2024-07-30 15:00:00,thriller,310\n",
        "489,”Outer Range”,1,2024-07-30 15:00:00,sci-fi,340\n",
        "200,”Black Mirror”,2,2024-07-30 15:00:00,sci-fi,140\n",
        "256,”Outer Range”,2,2024-07-30 15:00:00,thriller,250\n",
        "489,”Outer Range”,2,2024-07-28 15:00:00,sci-fi,170\n",
        "200,”Black Mirror”,3,2024-07-29 15:00:00,sci-fi,190\n",
        "672,”Panchayat”,2,2024-07-28 15:00:00,comedy,160\n",
        "672,”Outer Range”,1,2024-07-25 15:00:00,sci-fi,250\n",
        "200,”Black Mirror”,4,2024-07-28 15:00:00,sci-fi,200\n",
        "844,”Westworld”,2,2024-07-29 15:00:00,sci-fi,300\n",
        "672,”Black Mirror”,5,2024-07-28 15:00:00,sci-fi,150\n",
        "672,”Panchayat”,1,2024-07-27 15:00:00,comedy,190"
      ]
    },
    {
      "cell_type": "code",
      "source": [
        "pip install pyspark"
      ],
      "metadata": {
        "id": "9OZMKuxS2_Rn",
        "outputId": "c21d5666-dce4-430c-d914-814e642eabf7",
        "colab": {
          "base_uri": "https://localhost:8080/"
        }
      },
      "execution_count": 2,
      "outputs": [
        {
          "output_type": "stream",
          "name": "stdout",
          "text": [
            "Collecting pyspark\n",
            "  Downloading pyspark-3.5.1.tar.gz (317.0 MB)\n",
            "\u001b[2K     \u001b[90m━━━━━━━━━━━━━━━━━━━━━━━━━━━━━━━━━━━━━━━━\u001b[0m \u001b[32m317.0/317.0 MB\u001b[0m \u001b[31m4.8 MB/s\u001b[0m eta \u001b[36m0:00:00\u001b[0m\n",
            "\u001b[?25h  Preparing metadata (setup.py) ... \u001b[?25l\u001b[?25hdone\n",
            "Requirement already satisfied: py4j==0.10.9.7 in /usr/local/lib/python3.10/dist-packages (from pyspark) (0.10.9.7)\n",
            "Building wheels for collected packages: pyspark\n",
            "  Building wheel for pyspark (setup.py) ... \u001b[?25l\u001b[?25hdone\n",
            "  Created wheel for pyspark: filename=pyspark-3.5.1-py2.py3-none-any.whl size=317488490 sha256=e8e569ca186de506029c5c9646b0409981a93a3df83444580f359c5720a39707\n",
            "  Stored in directory: /root/.cache/pip/wheels/80/1d/60/2c256ed38dddce2fdd93be545214a63e02fbd8d74fb0b7f3a6\n",
            "Successfully built pyspark\n",
            "Installing collected packages: pyspark\n",
            "Successfully installed pyspark-3.5.1\n"
          ]
        }
      ]
    },
    {
      "cell_type": "code",
      "source": [
        "#Import Libraries\n",
        "from pyspark.sql import SparkSession\n",
        "from pyspark.sql.functions import *"
      ],
      "metadata": {
        "id": "GLxzpwaSIJRA"
      },
      "execution_count": 3,
      "outputs": []
    },
    {
      "cell_type": "code",
      "source": [
        "#Create SparkSession for app (Streaming Analysis)\n",
        "spark = SparkSession.builder.appName('Movie analysis').getOrCreate()"
      ],
      "metadata": {
        "id": "YChMWo_nIJTq"
      },
      "execution_count": 4,
      "outputs": []
    },
    {
      "cell_type": "code",
      "source": [
        "#Create Dataframe series_df\n",
        "moviesdf = spark.read.csv(\"movies.csv\",header=True)"
      ],
      "metadata": {
        "id": "gljhEO_IIJXB"
      },
      "execution_count": 5,
      "outputs": []
    },
    {
      "cell_type": "code",
      "source": [
        "moviesdf.show()"
      ],
      "metadata": {
        "id": "WAt12XkS3ir9",
        "outputId": "d6de03cc-e5a0-42fe-d97b-4eadc0cbe423",
        "colab": {
          "base_uri": "https://localhost:8080/"
        }
      },
      "execution_count": 6,
      "outputs": [
        {
          "output_type": "stream",
          "name": "stdout",
          "text": [
            "+-------+---------------+------+-------------------+--------+-------------+\n",
            "|user_id|         series|season|          timestamp|   genre|duration_mins|\n",
            "+-------+---------------+------+-------------------+--------+-------------+\n",
            "|    521|     ”Mirzapur”|     3|2024-07-30 15:00:00|  action|          300|\n",
            "|    672|    ”Panchayat”|     3|2024-07-30 15:00:00|  comedy|          200|\n",
            "|    197|   ”Family Man”|     2|2024-07-30 15:00:00|  action|          500|\n",
            "|    521|     ”Mirzapur”|     2|2024-07-29 15:00:00|  action|          280|\n",
            "|    211|”Queens Gambit”|     1|2024-07-30 15:00:00|   drama|          170|\n",
            "|    521|     ”Mirzapur”|     1|2024-07-28 15:00:00|  action|          230|\n",
            "|    844|    ”Westworld”|     3|2024-07-30 15:00:00|  sci-fi|          310|\n",
            "|    672|    ”Panchayat”|     3|2024-07-29 15:00:00|  comedy|          210|\n",
            "|    256|   ”Homecoming”|     2|2024-07-30 15:00:00|thriller|          310|\n",
            "|    489|  ”Outer Range”|     1|2024-07-30 15:00:00|  sci-fi|          340|\n",
            "|    200| ”Black Mirror”|     2|2024-07-30 15:00:00|  sci-fi|          140|\n",
            "|    256|  ”Outer Range”|     2|2024-07-30 15:00:00|thriller|          250|\n",
            "|    489|  ”Outer Range”|     2|2024-07-28 15:00:00|  sci-fi|          170|\n",
            "|    200| ”Black Mirror”|     3|2024-07-29 15:00:00|  sci-fi|          190|\n",
            "|    672|    ”Panchayat”|     2|2024-07-28 15:00:00|  comedy|          160|\n",
            "|    672|  ”Outer Range”|     1|2024-07-25 15:00:00|  sci-fi|          250|\n",
            "|    200| ”Black Mirror”|     4|2024-07-28 15:00:00|  sci-fi|          200|\n",
            "|    844|    ”Westworld”|     2|2024-07-29 15:00:00|  sci-fi|          300|\n",
            "|    672| ”Black Mirror”|     5|2024-07-28 15:00:00|  sci-fi|          150|\n",
            "|    672|    ”Panchayat”|     1|2024-07-27 15:00:00|  comedy|          190|\n",
            "+-------+---------------+------+-------------------+--------+-------------+\n",
            "\n"
          ]
        }
      ]
    },
    {
      "cell_type": "code",
      "source": [
        "#Find the user with maximum watchtime\n",
        "#moviesdf.filter(moviesdf.duration_mins == moviesdf.duration_mins.max())\n",
        "moviesdf.groupBy('user_id').agg(sum('duration_mins')).sort(col('sum(duration_mins)').desc()).first()[0]"
      ],
      "metadata": {
        "id": "ddoznJiZIJZI",
        "outputId": "93d4e28e-dd52-4a96-a683-07192221c090",
        "colab": {
          "base_uri": "https://localhost:8080/",
          "height": 36
        }
      },
      "execution_count": 26,
      "outputs": [
        {
          "output_type": "execute_result",
          "data": {
            "text/plain": [
              "'672'"
            ],
            "application/vnd.google.colaboratory.intrinsic+json": {
              "type": "string"
            }
          },
          "metadata": {},
          "execution_count": 26
        }
      ]
    },
    {
      "cell_type": "code",
      "source": [
        "#Calculate overall total Watchtime\n",
        "moviesdf.agg({'duration_mins':'sum'}).collect()[0][0]"
      ],
      "metadata": {
        "id": "KCpeY-cyynpN",
        "outputId": "e20ee18b-05e1-44ca-fb98-9a669641d7d0",
        "colab": {
          "base_uri": "https://localhost:8080/"
        }
      },
      "execution_count": 16,
      "outputs": [
        {
          "output_type": "execute_result",
          "data": {
            "text/plain": [
              "4850.0"
            ]
          },
          "metadata": {},
          "execution_count": 16
        }
      ]
    },
    {
      "cell_type": "code",
      "source": [
        "#Find most popular shows (based on watchtime)\n",
        "popular = moviesdf.groupBy('series').agg({'duration_mins':'sum'}).orderBy(col('sum(duration_mins)').desc()).limit(3)\n",
        "popular.rdd.flatMap(lambda x : [x[0]]).collect()"
      ],
      "metadata": {
        "id": "SMnElt2ZIJbJ",
        "outputId": "9949f508-44e2-4667-98e5-4fba3c9ed6f4",
        "colab": {
          "base_uri": "https://localhost:8080/"
        }
      },
      "execution_count": 19,
      "outputs": [
        {
          "output_type": "execute_result",
          "data": {
            "text/plain": [
              "['”Outer Range”', '”Mirzapur”', '”Panchayat”']"
            ]
          },
          "metadata": {},
          "execution_count": 19
        }
      ]
    },
    {
      "cell_type": "code",
      "source": [
        "#Find most popular shows (based on user popularity)\n",
        "user_popularity = moviesdf.groupBy('series').agg({'user_id':'count'}).orderBy(col('count(user_id)').desc()).limit(3)\n",
        "user_popularity.rdd.flatMap(lambda x : [x[0]]).collect()"
      ],
      "metadata": {
        "id": "-W2oNioNIJem",
        "outputId": "94c8c48a-7629-4dc7-e331-229746c99b9e",
        "colab": {
          "base_uri": "https://localhost:8080/"
        }
      },
      "execution_count": 23,
      "outputs": [
        {
          "output_type": "execute_result",
          "data": {
            "text/plain": [
              "['”Outer Range”', '”Panchayat”', '”Black Mirror”']"
            ]
          },
          "metadata": {},
          "execution_count": 23
        }
      ]
    },
    {
      "cell_type": "code",
      "source": [
        "#Find the most popular genre\n",
        "genre = moviesdf.groupBy('genre').agg(count('user_id'))\n",
        "genre.rdd.flatMap(lambda x : [x[0]]).collect()[0]"
      ],
      "metadata": {
        "id": "Z-RpLlNFIJgk",
        "outputId": "0df0947d-74df-41a1-f027-1a7b67151ddd",
        "colab": {
          "base_uri": "https://localhost:8080/",
          "height": 36
        }
      },
      "execution_count": 27,
      "outputs": [
        {
          "output_type": "execute_result",
          "data": {
            "text/plain": [
              "'action'"
            ],
            "application/vnd.google.colaboratory.intrinsic+json": {
              "type": "string"
            }
          },
          "metadata": {},
          "execution_count": 27
        }
      ]
    },
    {
      "cell_type": "code",
      "source": [
        "#Calculate total watchtime per user\n",
        "moviesdf.groupBy('user_id').agg(sum('duration_mins')).select(col(\"user_id\"),col(\"sum(duration_mins)\").alias('total_watch_time')).show()"
      ],
      "metadata": {
        "id": "vm_-_AUWIJis",
        "outputId": "b19fb282-c997-4553-b96e-c2bb9168e363",
        "colab": {
          "base_uri": "https://localhost:8080/"
        }
      },
      "execution_count": 35,
      "outputs": [
        {
          "output_type": "stream",
          "name": "stdout",
          "text": [
            "+-------+----------------+\n",
            "|user_id|total_watch_time|\n",
            "+-------+----------------+\n",
            "|    521|           810.0|\n",
            "|    200|           530.0|\n",
            "|    672|          1160.0|\n",
            "|    256|           560.0|\n",
            "|    197|           500.0|\n",
            "|    211|           170.0|\n",
            "|    844|           610.0|\n",
            "|    489|           510.0|\n",
            "+-------+----------------+\n",
            "\n"
          ]
        }
      ]
    },
    {
      "cell_type": "code",
      "source": [
        "#Find most popular genre (based on engagement count)\n"
      ],
      "metadata": {
        "id": "l-DuDyiOIJlG"
      },
      "execution_count": null,
      "outputs": []
    },
    {
      "cell_type": "code",
      "source": [
        "#Find average watchtime per genre\n"
      ],
      "metadata": {
        "id": "yFFZh-NFIJnQ"
      },
      "execution_count": null,
      "outputs": []
    },
    {
      "cell_type": "code",
      "source": [
        "#Find peak traffic days\n",
        "#(Output 1 = Full Date)\n",
        "\n",
        "\n",
        "#(Output 2 = Only Day)\n",
        "\n"
      ],
      "metadata": {
        "id": "HzXnysiXIJpq"
      },
      "execution_count": null,
      "outputs": []
    },
    {
      "cell_type": "code",
      "source": [
        "#Find the user with most diverse show preference\n"
      ],
      "metadata": {
        "id": "yY7SlM8yIJsz"
      },
      "execution_count": null,
      "outputs": []
    },
    {
      "cell_type": "code",
      "source": [
        "#Find the binge-watchers\n"
      ],
      "metadata": {
        "id": "9UMeWCk-IJvK"
      },
      "execution_count": null,
      "outputs": []
    },
    {
      "cell_type": "code",
      "source": [
        "#Find the user with longest watching streak\n"
      ],
      "metadata": {
        "id": "14CBZwe2M3rZ"
      },
      "execution_count": null,
      "outputs": []
    },
    {
      "cell_type": "code",
      "source": [
        "#Total Seasons available\n"
      ],
      "metadata": {
        "id": "X0HCvFNbye9Y"
      },
      "execution_count": null,
      "outputs": []
    },
    {
      "cell_type": "code",
      "source": [
        "#Fetch a list of all series\n"
      ],
      "metadata": {
        "id": "weylH9PDM3uU"
      },
      "execution_count": null,
      "outputs": []
    }
  ]
}