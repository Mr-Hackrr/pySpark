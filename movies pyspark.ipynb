{
  "nbformat": 4,
  "nbformat_minor": 0,
  "metadata": {
    "colab": {
      "provenance": [],
      "include_colab_link": true
    },
    "kernelspec": {
      "name": "python3",
      "display_name": "Python 3"
    },
    "language_info": {
      "name": "python"
    }
  },
  "cells": [
    {
      "cell_type": "markdown",
      "metadata": {
        "id": "view-in-github",
        "colab_type": "text"
      },
      "source": [
        "<a href=\"https://colab.research.google.com/github/Mr-Hackrr/pySpark/blob/main/movies%20pyspark.ipynb\" target=\"_parent\"><img src=\"https://colab.research.google.com/assets/colab-badge.svg\" alt=\"Open In Colab\"/></a>"
      ]
    },
    {
      "cell_type": "code",
      "execution_count": 1,
      "metadata": {
        "id": "UoH8kZvLICAR",
        "outputId": "40276f9d-7f09-497b-a919-1b4972ca1eac",
        "colab": {
          "base_uri": "https://localhost:8080/"
        }
      },
      "outputs": [
        {
          "output_type": "stream",
          "name": "stdout",
          "text": [
            "Writing movies.csv\n"
          ]
        }
      ],
      "source": [
        "%%writefile movies.csv\n",
        "user_id,series,season,timestamp,genre,duration_mins\n",
        "521,”Mirzapur”,3,2024-07-30 15:00:00,action,300\n",
        "672,”Panchayat”,3,2024-07-30 15:00:00,comedy,200\n",
        "197,”Family Man”,2,2024-07-30 15:00:00,action,500\n",
        "521,”Mirzapur”,2,2024-07-29 15:00:00,action,280\n",
        "211,”Queens Gambit”,1,2024-07-30 15:00:00,drama,170\n",
        "521,”Mirzapur”,1,2024-07-28 15:00:00,action,230\n",
        "844,”Westworld”,3,2024-07-30 15:00:00,sci-fi,310\n",
        "672,”Panchayat”,3,2024-07-29 15:00:00,comedy,210\n",
        "256,”Homecoming”,2,2024-07-30 15:00:00,thriller,310\n",
        "489,”Outer Range”,1,2024-07-30 15:00:00,sci-fi,340\n",
        "200,”Black Mirror”,2,2024-07-30 15:00:00,sci-fi,140\n",
        "256,”Outer Range”,2,2024-07-30 15:00:00,thriller,250\n",
        "489,”Outer Range”,2,2024-07-28 15:00:00,sci-fi,170\n",
        "200,”Black Mirror”,3,2024-07-29 15:00:00,sci-fi,190\n",
        "672,”Panchayat”,2,2024-07-28 15:00:00,comedy,160\n",
        "672,”Outer Range”,1,2024-07-25 15:00:00,sci-fi,250\n",
        "200,”Black Mirror”,4,2024-07-28 15:00:00,sci-fi,200\n",
        "844,”Westworld”,2,2024-07-29 15:00:00,sci-fi,300\n",
        "672,”Black Mirror”,5,2024-07-28 15:00:00,sci-fi,150\n",
        "672,”Panchayat”,1,2024-07-27 15:00:00,comedy,190"
      ]
    },
    {
      "cell_type": "code",
      "source": [
        "pip install pyspark"
      ],
      "metadata": {
        "id": "9OZMKuxS2_Rn",
        "outputId": "a6789357-3172-4ccb-9a80-b56972d184e7",
        "colab": {
          "base_uri": "https://localhost:8080/"
        }
      },
      "execution_count": 2,
      "outputs": [
        {
          "output_type": "stream",
          "name": "stdout",
          "text": [
            "Collecting pyspark\n",
            "  Downloading pyspark-3.5.1.tar.gz (317.0 MB)\n",
            "\u001b[2K     \u001b[90m━━━━━━━━━━━━━━━━━━━━━━━━━━━━━━━━━━━━━━━━\u001b[0m \u001b[32m317.0/317.0 MB\u001b[0m \u001b[31m2.3 MB/s\u001b[0m eta \u001b[36m0:00:00\u001b[0m\n",
            "\u001b[?25h  Preparing metadata (setup.py) ... \u001b[?25l\u001b[?25hdone\n",
            "Requirement already satisfied: py4j==0.10.9.7 in /usr/local/lib/python3.10/dist-packages (from pyspark) (0.10.9.7)\n",
            "Building wheels for collected packages: pyspark\n",
            "  Building wheel for pyspark (setup.py) ... \u001b[?25l\u001b[?25hdone\n",
            "  Created wheel for pyspark: filename=pyspark-3.5.1-py2.py3-none-any.whl size=317488490 sha256=cdfb3b05867188e05dd96bedbd5f0c47df34f371504cc1044afdca89d328e27f\n",
            "  Stored in directory: /root/.cache/pip/wheels/80/1d/60/2c256ed38dddce2fdd93be545214a63e02fbd8d74fb0b7f3a6\n",
            "Successfully built pyspark\n",
            "Installing collected packages: pyspark\n",
            "Successfully installed pyspark-3.5.1\n"
          ]
        }
      ]
    },
    {
      "cell_type": "code",
      "source": [
        "#Import Libraries\n",
        "from pyspark.sql import SparkSession\n",
        "from pyspark.sql.functions import *"
      ],
      "metadata": {
        "id": "GLxzpwaSIJRA"
      },
      "execution_count": 3,
      "outputs": []
    },
    {
      "cell_type": "code",
      "source": [
        "#Create SparkSession for app (Streaming Analysis)\n",
        "spark = SparkSession.builder.appName('Movie analysis').getOrCreate()"
      ],
      "metadata": {
        "id": "YChMWo_nIJTq"
      },
      "execution_count": 4,
      "outputs": []
    },
    {
      "cell_type": "code",
      "source": [
        "#Create Dataframe series_df\n",
        "moviesdf = spark.read.csv(\"movies.csv\",header=True)"
      ],
      "metadata": {
        "id": "gljhEO_IIJXB"
      },
      "execution_count": 5,
      "outputs": []
    },
    {
      "cell_type": "code",
      "source": [
        "moviesdf.show()"
      ],
      "metadata": {
        "id": "WAt12XkS3ir9",
        "outputId": "4e32abf5-d6dd-4b82-f4ba-d9e0924340d7",
        "colab": {
          "base_uri": "https://localhost:8080/"
        }
      },
      "execution_count": 6,
      "outputs": [
        {
          "output_type": "stream",
          "name": "stdout",
          "text": [
            "+-------+---------------+------+-------------------+--------+-------------+\n",
            "|user_id|         series|season|          timestamp|   genre|duration_mins|\n",
            "+-------+---------------+------+-------------------+--------+-------------+\n",
            "|    521|     ”Mirzapur”|     3|2024-07-30 15:00:00|  action|          300|\n",
            "|    672|    ”Panchayat”|     3|2024-07-30 15:00:00|  comedy|          200|\n",
            "|    197|   ”Family Man”|     2|2024-07-30 15:00:00|  action|          500|\n",
            "|    521|     ”Mirzapur”|     2|2024-07-29 15:00:00|  action|          280|\n",
            "|    211|”Queens Gambit”|     1|2024-07-30 15:00:00|   drama|          170|\n",
            "|    521|     ”Mirzapur”|     1|2024-07-28 15:00:00|  action|          230|\n",
            "|    844|    ”Westworld”|     3|2024-07-30 15:00:00|  sci-fi|          310|\n",
            "|    672|    ”Panchayat”|     3|2024-07-29 15:00:00|  comedy|          210|\n",
            "|    256|   ”Homecoming”|     2|2024-07-30 15:00:00|thriller|          310|\n",
            "|    489|  ”Outer Range”|     1|2024-07-30 15:00:00|  sci-fi|          340|\n",
            "|    200| ”Black Mirror”|     2|2024-07-30 15:00:00|  sci-fi|          140|\n",
            "|    256|  ”Outer Range”|     2|2024-07-30 15:00:00|thriller|          250|\n",
            "|    489|  ”Outer Range”|     2|2024-07-28 15:00:00|  sci-fi|          170|\n",
            "|    200| ”Black Mirror”|     3|2024-07-29 15:00:00|  sci-fi|          190|\n",
            "|    672|    ”Panchayat”|     2|2024-07-28 15:00:00|  comedy|          160|\n",
            "|    672|  ”Outer Range”|     1|2024-07-25 15:00:00|  sci-fi|          250|\n",
            "|    200| ”Black Mirror”|     4|2024-07-28 15:00:00|  sci-fi|          200|\n",
            "|    844|    ”Westworld”|     2|2024-07-29 15:00:00|  sci-fi|          300|\n",
            "|    672| ”Black Mirror”|     5|2024-07-28 15:00:00|  sci-fi|          150|\n",
            "|    672|    ”Panchayat”|     1|2024-07-27 15:00:00|  comedy|          190|\n",
            "+-------+---------------+------+-------------------+--------+-------------+\n",
            "\n"
          ]
        }
      ]
    },
    {
      "cell_type": "code",
      "source": [
        "#Find the user with maximum watchtime\n",
        "#moviesdf.filter(moviesdf.duration_mins == moviesdf.duration_mins.max())\n",
        "moviesdf.groupBy('user_id').agg(sum('duration_mins')).sort(col('sum(duration_mins)').desc()).first()[0]"
      ],
      "metadata": {
        "id": "ddoznJiZIJZI",
        "outputId": "51a4d042-c70d-40de-8cb3-192925fead81",
        "colab": {
          "base_uri": "https://localhost:8080/",
          "height": 36
        }
      },
      "execution_count": 7,
      "outputs": [
        {
          "output_type": "execute_result",
          "data": {
            "text/plain": [
              "'672'"
            ],
            "application/vnd.google.colaboratory.intrinsic+json": {
              "type": "string"
            }
          },
          "metadata": {},
          "execution_count": 7
        }
      ]
    },
    {
      "cell_type": "code",
      "source": [
        "#Calculate overall total Watchtime\n",
        "moviesdf.agg({'duration_mins':'sum'}).collect()[0][0]"
      ],
      "metadata": {
        "id": "KCpeY-cyynpN",
        "outputId": "edb79446-1c39-4b2c-eb22-dcd31655f9e0",
        "colab": {
          "base_uri": "https://localhost:8080/"
        }
      },
      "execution_count": 8,
      "outputs": [
        {
          "output_type": "execute_result",
          "data": {
            "text/plain": [
              "4850.0"
            ]
          },
          "metadata": {},
          "execution_count": 8
        }
      ]
    },
    {
      "cell_type": "code",
      "source": [
        "#Find most popular shows (based on watchtime)\n",
        "popular = moviesdf.groupBy('series').agg({'duration_mins':'sum'}).orderBy(col('sum(duration_mins)').desc()).limit(3)\n",
        "popular.rdd.flatMap(lambda x : [x[0]]).collect()"
      ],
      "metadata": {
        "id": "SMnElt2ZIJbJ",
        "outputId": "ff2e0add-ea17-40b3-9969-7e6ae7fe937a",
        "colab": {
          "base_uri": "https://localhost:8080/"
        }
      },
      "execution_count": 9,
      "outputs": [
        {
          "output_type": "execute_result",
          "data": {
            "text/plain": [
              "['”Outer Range”', '”Mirzapur”', '”Panchayat”']"
            ]
          },
          "metadata": {},
          "execution_count": 9
        }
      ]
    },
    {
      "cell_type": "code",
      "source": [
        "#Find most popular shows (based on user popularity)\n",
        "user_popularity = moviesdf.groupBy('series').agg({'user_id':'count'}).orderBy(col('count(user_id)').desc()).limit(3)\n",
        "user_popularity.rdd.flatMap(lambda x : [x[0]]).collect()"
      ],
      "metadata": {
        "id": "-W2oNioNIJem",
        "outputId": "15efe782-473e-4d2e-919a-4bb374ce03df",
        "colab": {
          "base_uri": "https://localhost:8080/"
        }
      },
      "execution_count": 10,
      "outputs": [
        {
          "output_type": "execute_result",
          "data": {
            "text/plain": [
              "['”Outer Range”', '”Panchayat”', '”Black Mirror”']"
            ]
          },
          "metadata": {},
          "execution_count": 10
        }
      ]
    },
    {
      "cell_type": "code",
      "source": [
        "#Find the most popular genre\n",
        "genre = moviesdf.groupBy('genre').agg(count('user_id'))\n",
        "genre.rdd.flatMap(lambda x : [x[0]]).collect()[0]"
      ],
      "metadata": {
        "id": "Z-RpLlNFIJgk",
        "outputId": "3b24d0ed-1a23-4bb4-ca86-0a1fae617602",
        "colab": {
          "base_uri": "https://localhost:8080/",
          "height": 36
        }
      },
      "execution_count": 11,
      "outputs": [
        {
          "output_type": "execute_result",
          "data": {
            "text/plain": [
              "'action'"
            ],
            "application/vnd.google.colaboratory.intrinsic+json": {
              "type": "string"
            }
          },
          "metadata": {},
          "execution_count": 11
        }
      ]
    },
    {
      "cell_type": "code",
      "source": [
        "#Calculate total watchtime per user\n",
        "moviesdf.groupBy('user_id').agg(sum('duration_mins')).select(col(\"user_id\"),col(\"sum(duration_mins)\").alias('total_watch_time')).show()"
      ],
      "metadata": {
        "id": "vm_-_AUWIJis",
        "outputId": "12b18ea0-90da-42b0-bcd5-2a9936cf7811",
        "colab": {
          "base_uri": "https://localhost:8080/"
        }
      },
      "execution_count": 12,
      "outputs": [
        {
          "output_type": "stream",
          "name": "stdout",
          "text": [
            "+-------+----------------+\n",
            "|user_id|total_watch_time|\n",
            "+-------+----------------+\n",
            "|    521|           810.0|\n",
            "|    200|           530.0|\n",
            "|    672|          1160.0|\n",
            "|    256|           560.0|\n",
            "|    197|           500.0|\n",
            "|    211|           170.0|\n",
            "|    844|           610.0|\n",
            "|    489|           510.0|\n",
            "+-------+----------------+\n",
            "\n"
          ]
        }
      ]
    },
    {
      "cell_type": "code",
      "source": [
        "#Find most popular genre (based on engagement count)\n"
      ],
      "metadata": {
        "id": "l-DuDyiOIJlG"
      },
      "execution_count": 13,
      "outputs": []
    },
    {
      "cell_type": "code",
      "source": [
        "# Find most popular genre (based on total watch time)\n",
        "genre_engagement = moviesdf.groupBy('genre').agg(sum('duration_mins').alias('total_watch_time')) \\\n",
        "                          .orderBy(col('total_watch_time').desc())\n",
        "\n",
        "# Extract the most popular genre\n",
        "most_popular_genre = genre_engagement.first()[0]\n",
        "\n",
        "print(f\"Most popular genre based on engagement: {most_popular_genre}\")\n"
      ],
      "metadata": {
        "id": "9IeMCDmTDgjb",
        "outputId": "b2cfd0cb-236c-4c38-8b5a-f114a46cd016",
        "colab": {
          "base_uri": "https://localhost:8080/"
        }
      },
      "execution_count": 21,
      "outputs": [
        {
          "output_type": "stream",
          "name": "stdout",
          "text": [
            "Most popular genre based on engagement: sci-fi\n"
          ]
        }
      ]
    },
    {
      "cell_type": "code",
      "source": [
        "#Find average watchtime per genre\n",
        "moviesdf.groupBy('genre').agg(avg('duration_mins').alias('avg_duration')).withColumn('avg_duration',round(col(\"avg_duration\"),2)).show()"
      ],
      "metadata": {
        "id": "yFFZh-NFIJnQ",
        "outputId": "63e8ebb9-4d08-49c6-bb8d-10e2df3d8ff2",
        "colab": {
          "base_uri": "https://localhost:8080/"
        }
      },
      "execution_count": 32,
      "outputs": [
        {
          "output_type": "stream",
          "name": "stdout",
          "text": [
            "+--------+------------+\n",
            "|   genre|avg_duration|\n",
            "+--------+------------+\n",
            "|  action|       327.5|\n",
            "|   drama|       170.0|\n",
            "|thriller|       280.0|\n",
            "|  sci-fi|      227.78|\n",
            "|  comedy|       190.0|\n",
            "+--------+------------+\n",
            "\n"
          ]
        }
      ]
    },
    {
      "cell_type": "code",
      "source": [],
      "metadata": {
        "id": "pDCxHLJ_M3ZP"
      },
      "execution_count": null,
      "outputs": []
    },
    {
      "cell_type": "code",
      "source": [
        "# prompt: #Find peak traffic days\n",
        "# #(Output 1 = Full Date) print first date print like yyyy-mm-dd\n",
        "\n",
        "from pyspark.sql.functions import to_date\n",
        "\n",
        "# Assuming 'timestamp' column is a string representing date and time\n",
        "moviesdf_with_date = moviesdf.withColumn('date', to_date(col('timestamp')))\n",
        "\n",
        "# Find peak traffic days\n",
        "peak_traffic_days = moviesdf_with_date.groupBy('date').agg(count('user_id').alias('user_count')) \\\n",
        "                                    .orderBy(col('user_count').desc())\n",
        "\n",
        "# Extract the first peak traffic day (full date)\n",
        "first_peak_day = peak_traffic_days.first()[0]\n",
        "\n",
        "print(f\"First peak traffic day (full date): {first_peak_day.strftime('%Y-%m-%d')}\")\n"
      ],
      "metadata": {
        "id": "HzXnysiXIJpq",
        "outputId": "818e28e0-e452-4d25-c30b-af2318d5de8b",
        "colab": {
          "base_uri": "https://localhost:8080/"
        }
      },
      "execution_count": 50,
      "outputs": [
        {
          "output_type": "stream",
          "name": "stdout",
          "text": [
            "First peak traffic day (full date): 2024-07-30\n"
          ]
        }
      ]
    },
    {
      "cell_type": "code",
      "source": [
        "#(Output 2 = Only Day)\n",
        "moviesdf = moviesdf.withColumn('day',dayofmonth(\"timestamp\"))\n",
        "daydf = moviesdf.groupBy('day').agg(count('day').alias(\"cnt_day\")).orderBy(col('cnt_day').desc()).limit(1)\n",
        "daydf.rdd.flatMap(lambda x : [x[0]]).collect()[0]"
      ],
      "metadata": {
        "id": "TUcbN_GqIyRZ",
        "outputId": "5aab5e34-fec9-4858-b024-ae38e4b9b915",
        "colab": {
          "base_uri": "https://localhost:8080/"
        }
      },
      "execution_count": 47,
      "outputs": [
        {
          "output_type": "execute_result",
          "data": {
            "text/plain": [
              "30"
            ]
          },
          "metadata": {},
          "execution_count": 47
        }
      ]
    },
    {
      "cell_type": "code",
      "source": [
        "#Find the user with most diverse show preference\n",
        "moviesdf.groupBy('user_id').agg(countDistinct('genre').alias('cnt')).orderBy(col('cnt').desc()).first()[0]"
      ],
      "metadata": {
        "id": "yY7SlM8yIJsz",
        "outputId": "a095bda3-98c6-48c6-97d0-0b875400668d",
        "colab": {
          "base_uri": "https://localhost:8080/",
          "height": 36
        }
      },
      "execution_count": 45,
      "outputs": [
        {
          "output_type": "execute_result",
          "data": {
            "text/plain": [
              "'672'"
            ],
            "application/vnd.google.colaboratory.intrinsic+json": {
              "type": "string"
            }
          },
          "metadata": {},
          "execution_count": 45
        }
      ]
    },
    {
      "cell_type": "code",
      "source": [
        "moviesdf.show()"
      ],
      "metadata": {
        "id": "FSkRXsLRUh02",
        "outputId": "c7fe1a7a-a05b-4102-bd58-d637e1b88d0f",
        "colab": {
          "base_uri": "https://localhost:8080/"
        }
      },
      "execution_count": 58,
      "outputs": [
        {
          "output_type": "stream",
          "name": "stdout",
          "text": [
            "+-------+---------------+------+-------------------+--------+-------------+----------+---+\n",
            "|user_id|         series|season|          timestamp|   genre|duration_mins|      date|day|\n",
            "+-------+---------------+------+-------------------+--------+-------------+----------+---+\n",
            "|    521|     ”Mirzapur”|     3|2024-07-30 15:00:00|  action|          300|2024-07-30| 30|\n",
            "|    672|    ”Panchayat”|     3|2024-07-30 15:00:00|  comedy|          200|2024-07-30| 30|\n",
            "|    197|   ”Family Man”|     2|2024-07-30 15:00:00|  action|          500|2024-07-30| 30|\n",
            "|    521|     ”Mirzapur”|     2|2024-07-29 15:00:00|  action|          280|2024-07-29| 29|\n",
            "|    211|”Queens Gambit”|     1|2024-07-30 15:00:00|   drama|          170|2024-07-30| 30|\n",
            "|    521|     ”Mirzapur”|     1|2024-07-28 15:00:00|  action|          230|2024-07-28| 28|\n",
            "|    844|    ”Westworld”|     3|2024-07-30 15:00:00|  sci-fi|          310|2024-07-30| 30|\n",
            "|    672|    ”Panchayat”|     3|2024-07-29 15:00:00|  comedy|          210|2024-07-29| 29|\n",
            "|    256|   ”Homecoming”|     2|2024-07-30 15:00:00|thriller|          310|2024-07-30| 30|\n",
            "|    489|  ”Outer Range”|     1|2024-07-30 15:00:00|  sci-fi|          340|2024-07-30| 30|\n",
            "|    200| ”Black Mirror”|     2|2024-07-30 15:00:00|  sci-fi|          140|2024-07-30| 30|\n",
            "|    256|  ”Outer Range”|     2|2024-07-30 15:00:00|thriller|          250|2024-07-30| 30|\n",
            "|    489|  ”Outer Range”|     2|2024-07-28 15:00:00|  sci-fi|          170|2024-07-28| 28|\n",
            "|    200| ”Black Mirror”|     3|2024-07-29 15:00:00|  sci-fi|          190|2024-07-29| 29|\n",
            "|    672|    ”Panchayat”|     2|2024-07-28 15:00:00|  comedy|          160|2024-07-28| 28|\n",
            "|    672|  ”Outer Range”|     1|2024-07-25 15:00:00|  sci-fi|          250|2024-07-25| 25|\n",
            "|    200| ”Black Mirror”|     4|2024-07-28 15:00:00|  sci-fi|          200|2024-07-28| 28|\n",
            "|    844|    ”Westworld”|     2|2024-07-29 15:00:00|  sci-fi|          300|2024-07-29| 29|\n",
            "|    672| ”Black Mirror”|     5|2024-07-28 15:00:00|  sci-fi|          150|2024-07-28| 28|\n",
            "|    672|    ”Panchayat”|     1|2024-07-27 15:00:00|  comedy|          190|2024-07-27| 27|\n",
            "+-------+---------------+------+-------------------+--------+-------------+----------+---+\n",
            "\n"
          ]
        }
      ]
    },
    {
      "cell_type": "code",
      "source": [],
      "metadata": {
        "id": "rlrtNUTiZ8hl"
      },
      "execution_count": null,
      "outputs": []
    },
    {
      "cell_type": "code",
      "source": [
        "#Find the binge-watchers\n",
        "moviesdf.groupBy('user_id','series','date').agg(count('season')).show()"
      ],
      "metadata": {
        "id": "9UMeWCk-IJvK",
        "outputId": "f5589cc3-abdd-442e-cdef-98d337faf03c",
        "colab": {
          "base_uri": "https://localhost:8080/"
        }
      },
      "execution_count": 63,
      "outputs": [
        {
          "output_type": "stream",
          "name": "stdout",
          "text": [
            "+-------+---------------+----------+-------------+\n",
            "|user_id|         series|      date|count(season)|\n",
            "+-------+---------------+----------+-------------+\n",
            "|    672|    ”Panchayat”|2024-07-30|            1|\n",
            "|    672|    ”Panchayat”|2024-07-28|            1|\n",
            "|    211|”Queens Gambit”|2024-07-30|            1|\n",
            "|    521|     ”Mirzapur”|2024-07-29|            1|\n",
            "|    200| ”Black Mirror”|2024-07-29|            1|\n",
            "|    256|  ”Outer Range”|2024-07-30|            1|\n",
            "|    200| ”Black Mirror”|2024-07-28|            1|\n",
            "|    200| ”Black Mirror”|2024-07-30|            1|\n",
            "|    256|   ”Homecoming”|2024-07-30|            1|\n",
            "|    672|    ”Panchayat”|2024-07-29|            1|\n",
            "|    489|  ”Outer Range”|2024-07-28|            1|\n",
            "|    521|     ”Mirzapur”|2024-07-28|            1|\n",
            "|    672|    ”Panchayat”|2024-07-27|            1|\n",
            "|    197|   ”Family Man”|2024-07-30|            1|\n",
            "|    844|    ”Westworld”|2024-07-30|            1|\n",
            "|    672|  ”Outer Range”|2024-07-25|            1|\n",
            "|    844|    ”Westworld”|2024-07-29|            1|\n",
            "|    521|     ”Mirzapur”|2024-07-30|            1|\n",
            "|    672| ”Black Mirror”|2024-07-28|            1|\n",
            "|    489|  ”Outer Range”|2024-07-30|            1|\n",
            "+-------+---------------+----------+-------------+\n",
            "\n"
          ]
        }
      ]
    },
    {
      "cell_type": "code",
      "source": [
        "#Find the user with longest watching streak\n"
      ],
      "metadata": {
        "id": "14CBZwe2M3rZ"
      },
      "execution_count": 60,
      "outputs": []
    },
    {
      "cell_type": "code",
      "source": [
        "#Total Seasons available\n",
        "series_df = moviesdf.groupBy('series').agg(max('season').alias('no_of_seasons'))\n",
        "series_df.show()"
      ],
      "metadata": {
        "id": "X0HCvFNbye9Y",
        "outputId": "817159ce-6d0e-434a-bcfc-ee98a6e5e7f4",
        "colab": {
          "base_uri": "https://localhost:8080/"
        }
      },
      "execution_count": 70,
      "outputs": [
        {
          "output_type": "stream",
          "name": "stdout",
          "text": [
            "+---------------+-------------+\n",
            "|         series|no_of_seasons|\n",
            "+---------------+-------------+\n",
            "| ”Black Mirror”|            5|\n",
            "|   ”Family Man”|            2|\n",
            "|   ”Homecoming”|            2|\n",
            "|     ”Mirzapur”|            3|\n",
            "|  ”Outer Range”|            2|\n",
            "|    ”Panchayat”|            3|\n",
            "|”Queens Gambit”|            1|\n",
            "|    ”Westworld”|            3|\n",
            "+---------------+-------------+\n",
            "\n"
          ]
        }
      ]
    },
    {
      "cell_type": "code",
      "source": [
        "moviesdf.show()"
      ],
      "metadata": {
        "id": "kXD9R3XlbXeA",
        "outputId": "4e37598e-94c3-427f-df6e-bffee0d03f4d",
        "colab": {
          "base_uri": "https://localhost:8080/",
          "height": 145
        }
      },
      "execution_count": 82,
      "outputs": [
        {
          "output_type": "error",
          "ename": "AttributeError",
          "evalue": "'NoneType' object has no attribute 'show'",
          "traceback": [
            "\u001b[0;31m---------------------------------------------------------------------------\u001b[0m",
            "\u001b[0;31mAttributeError\u001b[0m                            Traceback (most recent call last)",
            "\u001b[0;32m<ipython-input-82-83fb8a57ee38>\u001b[0m in \u001b[0;36m<cell line: 1>\u001b[0;34m()\u001b[0m\n\u001b[0;32m----> 1\u001b[0;31m \u001b[0mmoviesdf\u001b[0m\u001b[0;34m.\u001b[0m\u001b[0mshow\u001b[0m\u001b[0;34m(\u001b[0m\u001b[0;34m)\u001b[0m\u001b[0;34m\u001b[0m\u001b[0;34m\u001b[0m\u001b[0m\n\u001b[0m",
            "\u001b[0;31mAttributeError\u001b[0m: 'NoneType' object has no attribute 'show'"
          ]
        }
      ]
    },
    {
      "cell_type": "code",
      "source": [
        "pattern = r\"([a-zA-Z\\s]+)\"\n",
        "moviesdf = moviesdf.withColumn('series',regexp_extract('series',pattern,0))"
      ],
      "metadata": {
        "id": "C8uAR1olf7Yl",
        "outputId": "1111ae1c-fbf0-453e-fac7-151995d1bf6f",
        "colab": {
          "base_uri": "https://localhost:8080/",
          "height": 163
        }
      },
      "execution_count": 83,
      "outputs": [
        {
          "output_type": "error",
          "ename": "AttributeError",
          "evalue": "'NoneType' object has no attribute 'withColumn'",
          "traceback": [
            "\u001b[0;31m---------------------------------------------------------------------------\u001b[0m",
            "\u001b[0;31mAttributeError\u001b[0m                            Traceback (most recent call last)",
            "\u001b[0;32m<ipython-input-83-c238078839d8>\u001b[0m in \u001b[0;36m<cell line: 2>\u001b[0;34m()\u001b[0m\n\u001b[1;32m      1\u001b[0m \u001b[0mpattern\u001b[0m \u001b[0;34m=\u001b[0m \u001b[0;34mr\"([a-zA-Z\\s]+)\"\u001b[0m\u001b[0;34m\u001b[0m\u001b[0;34m\u001b[0m\u001b[0m\n\u001b[0;32m----> 2\u001b[0;31m \u001b[0mmoviesdf\u001b[0m \u001b[0;34m=\u001b[0m \u001b[0mmoviesdf\u001b[0m\u001b[0;34m.\u001b[0m\u001b[0mwithColumn\u001b[0m\u001b[0;34m(\u001b[0m\u001b[0;34m'series'\u001b[0m\u001b[0;34m,\u001b[0m\u001b[0mregexp_extract\u001b[0m\u001b[0;34m(\u001b[0m\u001b[0;34m'series'\u001b[0m\u001b[0;34m,\u001b[0m\u001b[0mpattern\u001b[0m\u001b[0;34m,\u001b[0m\u001b[0;36m0\u001b[0m\u001b[0;34m)\u001b[0m\u001b[0;34m)\u001b[0m\u001b[0;34m\u001b[0m\u001b[0;34m\u001b[0m\u001b[0m\n\u001b[0m",
            "\u001b[0;31mAttributeError\u001b[0m: 'NoneType' object has no attribute 'withColumn'"
          ]
        }
      ]
    },
    {
      "cell_type": "code",
      "source": [],
      "metadata": {
        "id": "F8iX59K2gCt9",
        "outputId": "aa3cb322-47d2-4fe9-cc82-71ad688449b3",
        "colab": {
          "base_uri": "https://localhost:8080/",
          "height": 145
        }
      },
      "execution_count": 81,
      "outputs": [
        {
          "output_type": "error",
          "ename": "AttributeError",
          "evalue": "'NoneType' object has no attribute 'show'",
          "traceback": [
            "\u001b[0;31m---------------------------------------------------------------------------\u001b[0m",
            "\u001b[0;31mAttributeError\u001b[0m                            Traceback (most recent call last)",
            "\u001b[0;32m<ipython-input-81-83fb8a57ee38>\u001b[0m in \u001b[0;36m<cell line: 1>\u001b[0;34m()\u001b[0m\n\u001b[0;32m----> 1\u001b[0;31m \u001b[0mmoviesdf\u001b[0m\u001b[0;34m.\u001b[0m\u001b[0mshow\u001b[0m\u001b[0;34m(\u001b[0m\u001b[0;34m)\u001b[0m\u001b[0;34m\u001b[0m\u001b[0;34m\u001b[0m\u001b[0m\n\u001b[0m",
            "\u001b[0;31mAttributeError\u001b[0m: 'NoneType' object has no attribute 'show'"
          ]
        }
      ]
    },
    {
      "cell_type": "code",
      "source": [],
      "metadata": {
        "id": "av7R2qOZgCwQ"
      },
      "execution_count": null,
      "outputs": []
    },
    {
      "cell_type": "code",
      "source": [],
      "metadata": {
        "id": "-ItOXTZQgCyi"
      },
      "execution_count": null,
      "outputs": []
    },
    {
      "cell_type": "code",
      "source": [],
      "metadata": {
        "id": "hs8oH8qIgC1L"
      },
      "execution_count": null,
      "outputs": []
    },
    {
      "cell_type": "code",
      "source": [],
      "metadata": {
        "id": "RsocWfRPgC4c"
      },
      "execution_count": null,
      "outputs": []
    },
    {
      "cell_type": "code",
      "source": [],
      "metadata": {
        "id": "dyWu0NzKf7bL"
      },
      "execution_count": null,
      "outputs": []
    },
    {
      "cell_type": "code",
      "source": [],
      "metadata": {
        "id": "yIBES4J6f7dg"
      },
      "execution_count": null,
      "outputs": []
    },
    {
      "cell_type": "code",
      "source": [],
      "metadata": {
        "id": "Zx-qTAPIf7gv"
      },
      "execution_count": null,
      "outputs": []
    },
    {
      "cell_type": "code",
      "source": [
        "#Fetch a list of all series\n",
        "from pyspark.sql.window import Window"
      ],
      "metadata": {
        "id": "weylH9PDM3uU"
      },
      "execution_count": 71,
      "outputs": []
    },
    {
      "cell_type": "code",
      "source": [
        "moviesdf.groupBy('series','date')"
      ],
      "metadata": {
        "id": "tTWVIOrje9zg"
      },
      "execution_count": null,
      "outputs": []
    },
    {
      "cell_type": "code",
      "source": [],
      "metadata": {
        "id": "ZcAjUKNwfxM-"
      },
      "execution_count": null,
      "outputs": []
    },
    {
      "cell_type": "code",
      "source": [],
      "metadata": {
        "id": "_Vti0yyae927"
      },
      "execution_count": null,
      "outputs": []
    }
  ]
}